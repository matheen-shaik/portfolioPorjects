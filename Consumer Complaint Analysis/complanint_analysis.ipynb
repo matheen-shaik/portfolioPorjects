{
 "cells": [
  {
   "cell_type": "code",
   "execution_count": 1,
   "metadata": {},
   "outputs": [],
   "source": [
    "import pandas as pd\n",
    "import matplotlib.pyplot as plt\n",
    "import seaborn as sns\n"
   ]
  },
  {
   "cell_type": "code",
   "execution_count": 4,
   "metadata": {},
   "outputs": [
    {
     "name": "stderr",
     "output_type": "stream",
     "text": [
      "/var/folders/7f/p642xsys1qdb9c8hcs8s95gh0000gn/T/ipykernel_9028/311151449.py:1: DtypeWarning: Columns (16) have mixed types. Specify dtype option on import or set low_memory=False.\n",
      "  df=pd.read_csv('complaints.csv')\n"
     ]
    },
    {
     "data": {
      "text/plain": [
       "(3834782, 18)"
      ]
     },
     "execution_count": 4,
     "metadata": {},
     "output_type": "execute_result"
    }
   ],
   "source": [
    "df=pd.read_csv('complaints.csv')\n",
    "df.shape"
   ]
  },
  {
   "cell_type": "code",
   "execution_count": 3,
   "metadata": {},
   "outputs": [
    {
     "data": {
      "text/plain": [
       "Index(['Date received', 'Product', 'Sub-product', 'Issue', 'Sub-issue',\n",
       "       'Consumer complaint narrative', 'Company public response', 'Company',\n",
       "       'State', 'ZIP code', 'Tags', 'Consumer consent provided?',\n",
       "       'Submitted via', 'Date sent to company', 'Company response to consumer',\n",
       "       'Timely response?', 'Consumer disputed?', 'Complaint ID'],\n",
       "      dtype='object')"
      ]
     },
     "execution_count": 3,
     "metadata": {},
     "output_type": "execute_result"
    }
   ],
   "source": [
    "df.columns"
   ]
  },
  {
   "cell_type": "code",
   "execution_count": 153,
   "metadata": {},
   "outputs": [],
   "source": [
    "d=df.groupby('Company').count()[['Complaint ID']]\n"
   ]
  },
  {
   "cell_type": "code",
   "execution_count": 158,
   "metadata": {},
   "outputs": [
    {
     "name": "stdout",
     "output_type": "stream",
     "text": [
      "<class 'pandas.core.frame.DataFrame'>\n"
     ]
    }
   ],
   "source": [
    "d.head()\n",
    "print(type(d))"
   ]
  },
  {
   "cell_type": "code",
   "execution_count": 171,
   "metadata": {},
   "outputs": [],
   "source": [
    "# for index,row in d.iterrows():\n",
    "#     print(row['Company'])\n",
    "#     break\n",
    "d.reset_index(inplace=True)\n",
    "# for ele in d:\n",
    "#     print(ele)"
   ]
  },
  {
   "cell_type": "code",
   "execution_count": 161,
   "metadata": {},
   "outputs": [
    {
     "data": {
      "text/html": [
       "<div>\n",
       "<style scoped>\n",
       "    .dataframe tbody tr th:only-of-type {\n",
       "        vertical-align: middle;\n",
       "    }\n",
       "\n",
       "    .dataframe tbody tr th {\n",
       "        vertical-align: top;\n",
       "    }\n",
       "\n",
       "    .dataframe thead th {\n",
       "        text-align: right;\n",
       "    }\n",
       "</style>\n",
       "<table border=\"1\" class=\"dataframe\">\n",
       "  <thead>\n",
       "    <tr style=\"text-align: right;\">\n",
       "      <th></th>\n",
       "      <th>Date received</th>\n",
       "      <th>Product</th>\n",
       "      <th>Sub-product</th>\n",
       "      <th>Issue</th>\n",
       "      <th>Sub-issue</th>\n",
       "      <th>Consumer complaint narrative</th>\n",
       "      <th>Company public response</th>\n",
       "      <th>Company</th>\n",
       "      <th>State</th>\n",
       "      <th>ZIP code</th>\n",
       "      <th>Tags</th>\n",
       "      <th>Consumer consent provided?</th>\n",
       "      <th>Submitted via</th>\n",
       "      <th>Date sent to company</th>\n",
       "      <th>Company response to consumer</th>\n",
       "      <th>Timely response?</th>\n",
       "      <th>Consumer disputed?</th>\n",
       "      <th>Complaint ID</th>\n",
       "    </tr>\n",
       "  </thead>\n",
       "  <tbody>\n",
       "    <tr>\n",
       "      <th>0</th>\n",
       "      <td>2023-06-24</td>\n",
       "      <td>Credit reporting, credit repair services, or o...</td>\n",
       "      <td>Credit reporting</td>\n",
       "      <td>Incorrect information on your report</td>\n",
       "      <td>Account status incorrect</td>\n",
       "      <td>I purchased a vehicle from Regional Acceptance...</td>\n",
       "      <td>Company has responded to the consumer and the ...</td>\n",
       "      <td>TRUIST FINANCIAL CORPORATION</td>\n",
       "      <td>IN</td>\n",
       "      <td>46804</td>\n",
       "      <td>Servicemember</td>\n",
       "      <td>Consent provided</td>\n",
       "      <td>Web</td>\n",
       "      <td>2023-06-24</td>\n",
       "      <td>Closed with explanation</td>\n",
       "      <td>Yes</td>\n",
       "      <td>NaN</td>\n",
       "      <td>7161475</td>\n",
       "    </tr>\n",
       "    <tr>\n",
       "      <th>1</th>\n",
       "      <td>2023-07-04</td>\n",
       "      <td>Credit reporting, credit repair services, or o...</td>\n",
       "      <td>Credit reporting</td>\n",
       "      <td>Improper use of your report</td>\n",
       "      <td>Reporting company used your report improperly</td>\n",
       "      <td>NaN</td>\n",
       "      <td>NaN</td>\n",
       "      <td>Experian Information Solutions Inc.</td>\n",
       "      <td>GA</td>\n",
       "      <td>30228</td>\n",
       "      <td>NaN</td>\n",
       "      <td>NaN</td>\n",
       "      <td>Web</td>\n",
       "      <td>2023-07-04</td>\n",
       "      <td>In progress</td>\n",
       "      <td>Yes</td>\n",
       "      <td>NaN</td>\n",
       "      <td>7198133</td>\n",
       "    </tr>\n",
       "  </tbody>\n",
       "</table>\n",
       "</div>"
      ],
      "text/plain": [
       "  Date received                                            Product  \\\n",
       "0    2023-06-24  Credit reporting, credit repair services, or o...   \n",
       "1    2023-07-04  Credit reporting, credit repair services, or o...   \n",
       "\n",
       "        Sub-product                                 Issue  \\\n",
       "0  Credit reporting  Incorrect information on your report   \n",
       "1  Credit reporting           Improper use of your report   \n",
       "\n",
       "                                       Sub-issue  \\\n",
       "0                       Account status incorrect   \n",
       "1  Reporting company used your report improperly   \n",
       "\n",
       "                        Consumer complaint narrative  \\\n",
       "0  I purchased a vehicle from Regional Acceptance...   \n",
       "1                                                NaN   \n",
       "\n",
       "                             Company public response  \\\n",
       "0  Company has responded to the consumer and the ...   \n",
       "1                                                NaN   \n",
       "\n",
       "                               Company State ZIP code           Tags  \\\n",
       "0         TRUIST FINANCIAL CORPORATION    IN    46804  Servicemember   \n",
       "1  Experian Information Solutions Inc.    GA    30228            NaN   \n",
       "\n",
       "  Consumer consent provided? Submitted via Date sent to company  \\\n",
       "0           Consent provided           Web           2023-06-24   \n",
       "1                        NaN           Web           2023-07-04   \n",
       "\n",
       "  Company response to consumer Timely response? Consumer disputed?  \\\n",
       "0      Closed with explanation              Yes                NaN   \n",
       "1                  In progress              Yes                NaN   \n",
       "\n",
       "   Complaint ID  \n",
       "0       7161475  \n",
       "1       7198133  "
      ]
     },
     "execution_count": 161,
     "metadata": {},
     "output_type": "execute_result"
    }
   ],
   "source": [
    "df[df['Timely response?']=='Yes'].head(2)"
   ]
  },
  {
   "cell_type": "code",
   "execution_count": 174,
   "metadata": {},
   "outputs": [],
   "source": [
    "t=df[df['Timely response?']=='Yes']"
   ]
  },
  {
   "cell_type": "code",
   "execution_count": 175,
   "metadata": {},
   "outputs": [
    {
     "data": {
      "text/html": [
       "<div>\n",
       "<style scoped>\n",
       "    .dataframe tbody tr th:only-of-type {\n",
       "        vertical-align: middle;\n",
       "    }\n",
       "\n",
       "    .dataframe tbody tr th {\n",
       "        vertical-align: top;\n",
       "    }\n",
       "\n",
       "    .dataframe thead th {\n",
       "        text-align: right;\n",
       "    }\n",
       "</style>\n",
       "<table border=\"1\" class=\"dataframe\">\n",
       "  <thead>\n",
       "    <tr style=\"text-align: right;\">\n",
       "      <th></th>\n",
       "      <th>Date received</th>\n",
       "      <th>Product</th>\n",
       "      <th>Sub-product</th>\n",
       "      <th>Issue</th>\n",
       "      <th>Sub-issue</th>\n",
       "      <th>Consumer complaint narrative</th>\n",
       "      <th>Company public response</th>\n",
       "      <th>Company</th>\n",
       "      <th>State</th>\n",
       "      <th>ZIP code</th>\n",
       "      <th>Tags</th>\n",
       "      <th>Consumer consent provided?</th>\n",
       "      <th>Submitted via</th>\n",
       "      <th>Date sent to company</th>\n",
       "      <th>Company response to consumer</th>\n",
       "      <th>Timely response?</th>\n",
       "      <th>Consumer disputed?</th>\n",
       "      <th>Complaint ID</th>\n",
       "    </tr>\n",
       "  </thead>\n",
       "  <tbody>\n",
       "    <tr>\n",
       "      <th>0</th>\n",
       "      <td>2023-06-24</td>\n",
       "      <td>Credit reporting, credit repair services, or o...</td>\n",
       "      <td>Credit reporting</td>\n",
       "      <td>Incorrect information on your report</td>\n",
       "      <td>Account status incorrect</td>\n",
       "      <td>I purchased a vehicle from Regional Acceptance...</td>\n",
       "      <td>Company has responded to the consumer and the ...</td>\n",
       "      <td>TRUIST FINANCIAL CORPORATION</td>\n",
       "      <td>IN</td>\n",
       "      <td>46804</td>\n",
       "      <td>Servicemember</td>\n",
       "      <td>Consent provided</td>\n",
       "      <td>Web</td>\n",
       "      <td>2023-06-24</td>\n",
       "      <td>Closed with explanation</td>\n",
       "      <td>Yes</td>\n",
       "      <td>NaN</td>\n",
       "      <td>7161475</td>\n",
       "    </tr>\n",
       "  </tbody>\n",
       "</table>\n",
       "</div>"
      ],
      "text/plain": [
       "  Date received                                            Product  \\\n",
       "0    2023-06-24  Credit reporting, credit repair services, or o...   \n",
       "\n",
       "        Sub-product                                 Issue  \\\n",
       "0  Credit reporting  Incorrect information on your report   \n",
       "\n",
       "                  Sub-issue  \\\n",
       "0  Account status incorrect   \n",
       "\n",
       "                        Consumer complaint narrative  \\\n",
       "0  I purchased a vehicle from Regional Acceptance...   \n",
       "\n",
       "                             Company public response  \\\n",
       "0  Company has responded to the consumer and the ...   \n",
       "\n",
       "                        Company State ZIP code           Tags  \\\n",
       "0  TRUIST FINANCIAL CORPORATION    IN    46804  Servicemember   \n",
       "\n",
       "  Consumer consent provided? Submitted via Date sent to company  \\\n",
       "0           Consent provided           Web           2023-06-24   \n",
       "\n",
       "  Company response to consumer Timely response? Consumer disputed?  \\\n",
       "0      Closed with explanation              Yes                NaN   \n",
       "\n",
       "   Complaint ID  \n",
       "0       7161475  "
      ]
     },
     "execution_count": 175,
     "metadata": {},
     "output_type": "execute_result"
    }
   ],
   "source": [
    "t.head(1)"
   ]
  },
  {
   "cell_type": "code",
   "execution_count": 177,
   "metadata": {},
   "outputs": [],
   "source": [
    "c=df[df['Consumer disputed?']=='Yes']"
   ]
  },
  {
   "cell_type": "code",
   "execution_count": 179,
   "metadata": {},
   "outputs": [
    {
     "data": {
      "text/html": [
       "<div>\n",
       "<style scoped>\n",
       "    .dataframe tbody tr th:only-of-type {\n",
       "        vertical-align: middle;\n",
       "    }\n",
       "\n",
       "    .dataframe tbody tr th {\n",
       "        vertical-align: top;\n",
       "    }\n",
       "\n",
       "    .dataframe thead th {\n",
       "        text-align: right;\n",
       "    }\n",
       "</style>\n",
       "<table border=\"1\" class=\"dataframe\">\n",
       "  <thead>\n",
       "    <tr style=\"text-align: right;\">\n",
       "      <th></th>\n",
       "      <th>Date received</th>\n",
       "      <th>Product</th>\n",
       "      <th>Sub-product</th>\n",
       "      <th>Issue</th>\n",
       "      <th>Sub-issue</th>\n",
       "      <th>Consumer complaint narrative</th>\n",
       "      <th>Company public response</th>\n",
       "      <th>Company</th>\n",
       "      <th>State</th>\n",
       "      <th>ZIP code</th>\n",
       "      <th>Tags</th>\n",
       "      <th>Consumer consent provided?</th>\n",
       "      <th>Submitted via</th>\n",
       "      <th>Date sent to company</th>\n",
       "      <th>Company response to consumer</th>\n",
       "      <th>Timely response?</th>\n",
       "      <th>Consumer disputed?</th>\n",
       "      <th>Complaint ID</th>\n",
       "    </tr>\n",
       "  </thead>\n",
       "  <tbody>\n",
       "    <tr>\n",
       "      <th>120682</th>\n",
       "      <td>2016-08-02</td>\n",
       "      <td>Bank account or service</td>\n",
       "      <td>Checking account</td>\n",
       "      <td>Making/receiving payments, sending money</td>\n",
       "      <td>NaN</td>\n",
       "      <td>NaN</td>\n",
       "      <td>NaN</td>\n",
       "      <td>JPMORGAN CHASE &amp; CO.</td>\n",
       "      <td>TX</td>\n",
       "      <td>76179</td>\n",
       "      <td>Older American</td>\n",
       "      <td>NaN</td>\n",
       "      <td>Fax</td>\n",
       "      <td>2016-08-04</td>\n",
       "      <td>Closed with explanation</td>\n",
       "      <td>Yes</td>\n",
       "      <td>Yes</td>\n",
       "      <td>2041835</td>\n",
       "    </tr>\n",
       "    <tr>\n",
       "      <th>121927</th>\n",
       "      <td>2015-02-05</td>\n",
       "      <td>Credit card</td>\n",
       "      <td>NaN</td>\n",
       "      <td>Cash advance fee</td>\n",
       "      <td>NaN</td>\n",
       "      <td>NaN</td>\n",
       "      <td>NaN</td>\n",
       "      <td>BANK OF AMERICA, NATIONAL ASSOCIATION</td>\n",
       "      <td>NJ</td>\n",
       "      <td>07047</td>\n",
       "      <td>NaN</td>\n",
       "      <td>NaN</td>\n",
       "      <td>Web</td>\n",
       "      <td>2015-02-05</td>\n",
       "      <td>Closed with explanation</td>\n",
       "      <td>Yes</td>\n",
       "      <td>Yes</td>\n",
       "      <td>1226301</td>\n",
       "    </tr>\n",
       "  </tbody>\n",
       "</table>\n",
       "</div>"
      ],
      "text/plain": [
       "       Date received                  Product       Sub-product  \\\n",
       "120682    2016-08-02  Bank account or service  Checking account   \n",
       "121927    2015-02-05              Credit card               NaN   \n",
       "\n",
       "                                           Issue Sub-issue  \\\n",
       "120682  Making/receiving payments, sending money       NaN   \n",
       "121927                          Cash advance fee       NaN   \n",
       "\n",
       "       Consumer complaint narrative Company public response  \\\n",
       "120682                          NaN                     NaN   \n",
       "121927                          NaN                     NaN   \n",
       "\n",
       "                                      Company State ZIP code            Tags  \\\n",
       "120682                   JPMORGAN CHASE & CO.    TX    76179  Older American   \n",
       "121927  BANK OF AMERICA, NATIONAL ASSOCIATION    NJ    07047             NaN   \n",
       "\n",
       "       Consumer consent provided? Submitted via Date sent to company  \\\n",
       "120682                        NaN           Fax           2016-08-04   \n",
       "121927                        NaN           Web           2015-02-05   \n",
       "\n",
       "       Company response to consumer Timely response? Consumer disputed?  \\\n",
       "120682      Closed with explanation              Yes                Yes   \n",
       "121927      Closed with explanation              Yes                Yes   \n",
       "\n",
       "        Complaint ID  \n",
       "120682       2041835  \n",
       "121927       1226301  "
      ]
     },
     "execution_count": 179,
     "metadata": {},
     "output_type": "execute_result"
    }
   ],
   "source": [
    "c.head(2)"
   ]
  },
  {
   "cell_type": "code",
   "execution_count": 180,
   "metadata": {},
   "outputs": [
    {
     "data": {
      "text/plain": [
       "9523"
      ]
     },
     "execution_count": 180,
     "metadata": {},
     "output_type": "execute_result"
    }
   ],
   "source": [
    "c[c['Company']=='JPMORGAN CHASE & CO.'].shape[0]"
   ]
  },
  {
   "cell_type": "code",
   "execution_count": 187,
   "metadata": {},
   "outputs": [
    {
     "data": {
      "text/html": [
       "<div>\n",
       "<style scoped>\n",
       "    .dataframe tbody tr th:only-of-type {\n",
       "        vertical-align: middle;\n",
       "    }\n",
       "\n",
       "    .dataframe tbody tr th {\n",
       "        vertical-align: top;\n",
       "    }\n",
       "\n",
       "    .dataframe thead th {\n",
       "        text-align: right;\n",
       "    }\n",
       "</style>\n",
       "<table border=\"1\" class=\"dataframe\">\n",
       "  <thead>\n",
       "    <tr style=\"text-align: right;\">\n",
       "      <th></th>\n",
       "      <th>index</th>\n",
       "      <th>Company</th>\n",
       "      <th>Complaint ID</th>\n",
       "    </tr>\n",
       "  </thead>\n",
       "  <tbody>\n",
       "    <tr>\n",
       "      <th>0</th>\n",
       "      <td>0</td>\n",
       "      <td>(Former)Shapiro, Swertfeger &amp; Hasty, LLP</td>\n",
       "      <td>12</td>\n",
       "    </tr>\n",
       "  </tbody>\n",
       "</table>\n",
       "</div>"
      ],
      "text/plain": [
       "   index                                   Company  Complaint ID\n",
       "0      0  (Former)Shapiro, Swertfeger & Hasty, LLP            12"
      ]
     },
     "execution_count": 187,
     "metadata": {},
     "output_type": "execute_result"
    }
   ],
   "source": [
    "d.head(1)"
   ]
  },
  {
   "cell_type": "code",
   "execution_count": 189,
   "metadata": {},
   "outputs": [
    {
     "data": {
      "text/plain": [
       "0"
      ]
     },
     "execution_count": 189,
     "metadata": {},
     "output_type": "execute_result"
    }
   ],
   "source": [
    "c[c['Company']=='(Former)Shapiro, Swertfeger & Hasty, LLP'].shape[0]"
   ]
  },
  {
   "cell_type": "code",
   "execution_count": 167,
   "metadata": {},
   "outputs": [
    {
     "data": {
      "text/html": [
       "<div>\n",
       "<style scoped>\n",
       "    .dataframe tbody tr th:only-of-type {\n",
       "        vertical-align: middle;\n",
       "    }\n",
       "\n",
       "    .dataframe tbody tr th {\n",
       "        vertical-align: top;\n",
       "    }\n",
       "\n",
       "    .dataframe thead th {\n",
       "        text-align: right;\n",
       "    }\n",
       "</style>\n",
       "<table border=\"1\" class=\"dataframe\">\n",
       "  <thead>\n",
       "    <tr style=\"text-align: right;\">\n",
       "      <th></th>\n",
       "      <th>Date received</th>\n",
       "      <th>Product</th>\n",
       "      <th>Sub-product</th>\n",
       "      <th>Issue</th>\n",
       "      <th>Sub-issue</th>\n",
       "      <th>Consumer complaint narrative</th>\n",
       "      <th>Company public response</th>\n",
       "      <th>Company</th>\n",
       "      <th>State</th>\n",
       "      <th>ZIP code</th>\n",
       "      <th>Tags</th>\n",
       "      <th>Consumer consent provided?</th>\n",
       "      <th>Submitted via</th>\n",
       "      <th>Date sent to company</th>\n",
       "      <th>Company response to consumer</th>\n",
       "      <th>Timely response?</th>\n",
       "      <th>Consumer disputed?</th>\n",
       "      <th>Complaint ID</th>\n",
       "    </tr>\n",
       "  </thead>\n",
       "  <tbody>\n",
       "    <tr>\n",
       "      <th>202791</th>\n",
       "      <td>2019-07-23</td>\n",
       "      <td>Payday loan, title loan, or personal loan</td>\n",
       "      <td>Payday loan</td>\n",
       "      <td>Problem with the payoff process at the end of ...</td>\n",
       "      <td>NaN</td>\n",
       "      <td>NaN</td>\n",
       "      <td>NaN</td>\n",
       "      <td>1 STOP MONEY CENTERS, LLC</td>\n",
       "      <td>AZ</td>\n",
       "      <td>85044</td>\n",
       "      <td>NaN</td>\n",
       "      <td>NaN</td>\n",
       "      <td>Phone</td>\n",
       "      <td>2019-07-26</td>\n",
       "      <td>Closed with non-monetary relief</td>\n",
       "      <td>Yes</td>\n",
       "      <td>NaN</td>\n",
       "      <td>3315825</td>\n",
       "    </tr>\n",
       "    <tr>\n",
       "      <th>406670</th>\n",
       "      <td>2018-01-25</td>\n",
       "      <td>Vehicle loan or lease</td>\n",
       "      <td>Loan</td>\n",
       "      <td>Struggling to pay your loan</td>\n",
       "      <td>Denied request to lower payments</td>\n",
       "      <td>On XX/XX/2017 at XXXX I ( XXXX XXXX ),  spoke ...</td>\n",
       "      <td>Company believes it acted appropriately as aut...</td>\n",
       "      <td>1 STOP MONEY CENTERS, LLC</td>\n",
       "      <td>AZ</td>\n",
       "      <td>85281</td>\n",
       "      <td>NaN</td>\n",
       "      <td>Consent provided</td>\n",
       "      <td>Web</td>\n",
       "      <td>2018-01-31</td>\n",
       "      <td>Closed with explanation</td>\n",
       "      <td>Yes</td>\n",
       "      <td>NaN</td>\n",
       "      <td>2792862</td>\n",
       "    </tr>\n",
       "    <tr>\n",
       "      <th>651119</th>\n",
       "      <td>2022-01-03</td>\n",
       "      <td>Payday loan, title loan, or personal loan</td>\n",
       "      <td>Installment loan</td>\n",
       "      <td>Charged fees or interest you didn't expect</td>\n",
       "      <td>NaN</td>\n",
       "      <td>I called due to my job cutting our hours to ma...</td>\n",
       "      <td>Company believes it acted appropriately as aut...</td>\n",
       "      <td>1 STOP MONEY CENTERS, LLC</td>\n",
       "      <td>AZ</td>\n",
       "      <td>85338</td>\n",
       "      <td>NaN</td>\n",
       "      <td>Consent provided</td>\n",
       "      <td>Web</td>\n",
       "      <td>2022-01-18</td>\n",
       "      <td>Closed with explanation</td>\n",
       "      <td>Yes</td>\n",
       "      <td>NaN</td>\n",
       "      <td>5064536</td>\n",
       "    </tr>\n",
       "    <tr>\n",
       "      <th>809299</th>\n",
       "      <td>2018-10-08</td>\n",
       "      <td>Payday loan, title loan, or personal loan</td>\n",
       "      <td>Title loan</td>\n",
       "      <td>Struggling to pay your loan</td>\n",
       "      <td>NaN</td>\n",
       "      <td>Afternoon, In XX/XX/XXXX I had o resign my agr...</td>\n",
       "      <td>Company has responded to the consumer and the ...</td>\n",
       "      <td>1 STOP MONEY CENTERS, LLC</td>\n",
       "      <td>AZ</td>\n",
       "      <td>85204</td>\n",
       "      <td>NaN</td>\n",
       "      <td>Consent provided</td>\n",
       "      <td>Web</td>\n",
       "      <td>2018-10-12</td>\n",
       "      <td>Closed with monetary relief</td>\n",
       "      <td>Yes</td>\n",
       "      <td>NaN</td>\n",
       "      <td>3040399</td>\n",
       "    </tr>\n",
       "    <tr>\n",
       "      <th>1227447</th>\n",
       "      <td>2018-11-05</td>\n",
       "      <td>Payday loan, title loan, or personal loan</td>\n",
       "      <td>Installment loan</td>\n",
       "      <td>Struggling to pay your loan</td>\n",
       "      <td>NaN</td>\n",
       "      <td>On XX/XX/2018 I went to the bank to pull money...</td>\n",
       "      <td>Company believes it acted appropriately as aut...</td>\n",
       "      <td>1 STOP MONEY CENTERS, LLC</td>\n",
       "      <td>AZ</td>\n",
       "      <td>XXXXX</td>\n",
       "      <td>NaN</td>\n",
       "      <td>Consent provided</td>\n",
       "      <td>Web</td>\n",
       "      <td>2018-11-06</td>\n",
       "      <td>Closed with explanation</td>\n",
       "      <td>Yes</td>\n",
       "      <td>NaN</td>\n",
       "      <td>3066444</td>\n",
       "    </tr>\n",
       "    <tr>\n",
       "      <th>1935744</th>\n",
       "      <td>2016-10-28</td>\n",
       "      <td>Consumer Loan</td>\n",
       "      <td>Title loan</td>\n",
       "      <td>Charged fees or interest I didn't expect</td>\n",
       "      <td>NaN</td>\n",
       "      <td>NaN</td>\n",
       "      <td>NaN</td>\n",
       "      <td>1 STOP MONEY CENTERS, LLC</td>\n",
       "      <td>AZ</td>\n",
       "      <td>85140</td>\n",
       "      <td>NaN</td>\n",
       "      <td>Consent not provided</td>\n",
       "      <td>Web</td>\n",
       "      <td>2017-01-30</td>\n",
       "      <td>Closed with explanation</td>\n",
       "      <td>Yes</td>\n",
       "      <td>No</td>\n",
       "      <td>2184609</td>\n",
       "    </tr>\n",
       "    <tr>\n",
       "      <th>3005109</th>\n",
       "      <td>2020-07-08</td>\n",
       "      <td>Debt collection</td>\n",
       "      <td>Payday loan debt</td>\n",
       "      <td>Took or threatened to take negative or legal a...</td>\n",
       "      <td>Threatened or suggested your credit would be d...</td>\n",
       "      <td>NaN</td>\n",
       "      <td>Company believes complaint relates to a discon...</td>\n",
       "      <td>1 STOP MONEY CENTERS, LLC</td>\n",
       "      <td>AZ</td>\n",
       "      <td>85044</td>\n",
       "      <td>NaN</td>\n",
       "      <td>Consent not provided</td>\n",
       "      <td>Web</td>\n",
       "      <td>2020-07-08</td>\n",
       "      <td>Closed with non-monetary relief</td>\n",
       "      <td>Yes</td>\n",
       "      <td>NaN</td>\n",
       "      <td>3735289</td>\n",
       "    </tr>\n",
       "  </tbody>\n",
       "</table>\n",
       "</div>"
      ],
      "text/plain": [
       "        Date received                                    Product  \\\n",
       "202791     2019-07-23  Payday loan, title loan, or personal loan   \n",
       "406670     2018-01-25                      Vehicle loan or lease   \n",
       "651119     2022-01-03  Payday loan, title loan, or personal loan   \n",
       "809299     2018-10-08  Payday loan, title loan, or personal loan   \n",
       "1227447    2018-11-05  Payday loan, title loan, or personal loan   \n",
       "1935744    2016-10-28                              Consumer Loan   \n",
       "3005109    2020-07-08                            Debt collection   \n",
       "\n",
       "              Sub-product                                              Issue  \\\n",
       "202791        Payday loan  Problem with the payoff process at the end of ...   \n",
       "406670               Loan                        Struggling to pay your loan   \n",
       "651119   Installment loan         Charged fees or interest you didn't expect   \n",
       "809299         Title loan                        Struggling to pay your loan   \n",
       "1227447  Installment loan                        Struggling to pay your loan   \n",
       "1935744        Title loan           Charged fees or interest I didn't expect   \n",
       "3005109  Payday loan debt  Took or threatened to take negative or legal a...   \n",
       "\n",
       "                                                 Sub-issue  \\\n",
       "202791                                                 NaN   \n",
       "406670                    Denied request to lower payments   \n",
       "651119                                                 NaN   \n",
       "809299                                                 NaN   \n",
       "1227447                                                NaN   \n",
       "1935744                                                NaN   \n",
       "3005109  Threatened or suggested your credit would be d...   \n",
       "\n",
       "                              Consumer complaint narrative  \\\n",
       "202791                                                 NaN   \n",
       "406670   On XX/XX/2017 at XXXX I ( XXXX XXXX ),  spoke ...   \n",
       "651119   I called due to my job cutting our hours to ma...   \n",
       "809299   Afternoon, In XX/XX/XXXX I had o resign my agr...   \n",
       "1227447  On XX/XX/2018 I went to the bank to pull money...   \n",
       "1935744                                                NaN   \n",
       "3005109                                                NaN   \n",
       "\n",
       "                                   Company public response  \\\n",
       "202791                                                 NaN   \n",
       "406670   Company believes it acted appropriately as aut...   \n",
       "651119   Company believes it acted appropriately as aut...   \n",
       "809299   Company has responded to the consumer and the ...   \n",
       "1227447  Company believes it acted appropriately as aut...   \n",
       "1935744                                                NaN   \n",
       "3005109  Company believes complaint relates to a discon...   \n",
       "\n",
       "                           Company State ZIP code Tags  \\\n",
       "202791   1 STOP MONEY CENTERS, LLC    AZ    85044  NaN   \n",
       "406670   1 STOP MONEY CENTERS, LLC    AZ    85281  NaN   \n",
       "651119   1 STOP MONEY CENTERS, LLC    AZ    85338  NaN   \n",
       "809299   1 STOP MONEY CENTERS, LLC    AZ    85204  NaN   \n",
       "1227447  1 STOP MONEY CENTERS, LLC    AZ    XXXXX  NaN   \n",
       "1935744  1 STOP MONEY CENTERS, LLC    AZ    85140  NaN   \n",
       "3005109  1 STOP MONEY CENTERS, LLC    AZ    85044  NaN   \n",
       "\n",
       "        Consumer consent provided? Submitted via Date sent to company  \\\n",
       "202791                         NaN         Phone           2019-07-26   \n",
       "406670            Consent provided           Web           2018-01-31   \n",
       "651119            Consent provided           Web           2022-01-18   \n",
       "809299            Consent provided           Web           2018-10-12   \n",
       "1227447           Consent provided           Web           2018-11-06   \n",
       "1935744       Consent not provided           Web           2017-01-30   \n",
       "3005109       Consent not provided           Web           2020-07-08   \n",
       "\n",
       "            Company response to consumer Timely response? Consumer disputed?  \\\n",
       "202791   Closed with non-monetary relief              Yes                NaN   \n",
       "406670           Closed with explanation              Yes                NaN   \n",
       "651119           Closed with explanation              Yes                NaN   \n",
       "809299       Closed with monetary relief              Yes                NaN   \n",
       "1227447          Closed with explanation              Yes                NaN   \n",
       "1935744          Closed with explanation              Yes                 No   \n",
       "3005109  Closed with non-monetary relief              Yes                NaN   \n",
       "\n",
       "         Complaint ID  \n",
       "202791        3315825  \n",
       "406670        2792862  \n",
       "651119        5064536  \n",
       "809299        3040399  \n",
       "1227447       3066444  \n",
       "1935744       2184609  \n",
       "3005109       3735289  "
      ]
     },
     "execution_count": 167,
     "metadata": {},
     "output_type": "execute_result"
    }
   ],
   "source": [
    "t[t['Company']=='1 STOP MONEY CENTERS, LLC']"
   ]
  },
  {
   "cell_type": "code",
   "execution_count": 168,
   "metadata": {},
   "outputs": [],
   "source": [
    "# t=df.groupby(['Company','Timely response?']).count().head()\n"
   ]
  },
  {
   "cell_type": "code",
   "execution_count": 205,
   "metadata": {},
   "outputs": [],
   "source": [
    "very_high_response=[]\n",
    "high_response=[]\n",
    "medium_response=[]\n",
    "low_response=[]\n",
    "\n",
    "very_high_dispute=[]\n",
    "high_dispute=[]\n",
    "medium_dispute=[]\n",
    "low_dispute=[]\n",
    "\n",
    "for index,row in d.iterrows():\n",
    "    if row['Complaint ID']<5000:\n",
    "        low_response.append((t[t['Company']==row['Company']].shape[0]/row['Complaint ID'])*100)\n",
    "        low_dispute.append((c[c['Company']==row['Company']].shape[0]/row['Complaint ID'])*100)\n",
    "    if row['Complaint ID']<10000 and row['Complaint ID']>5000:\n",
    "        medium_response.append((t[t['Company']==row['Company']].shape[0]/row['Complaint ID'])*100)\n",
    "        medium_dispute.append((c[c['Company']==row['Company']].shape[0]/row['Complaint ID'])*100)\n",
    "    if row['Complaint ID']<50000 and row['Complaint ID']>10000:\n",
    "        high_response.append((t[t['Company']==row['Company']].shape[0]/row['Complaint ID'])*100)\n",
    "        high_dispute.append((c[c['Company']==row['Company']].shape[0]/row['Complaint ID'])*100)\n",
    "    if row['Complaint ID']>50000:\n",
    "        very_high_response.append((t[t['Company']==row['Company']].shape[0]/row['Complaint ID'])*100)\n",
    "        very_high_dispute.append((c[c['Company']==row['Company']].shape[0]/row['Complaint ID'])*100)\n",
    "    \n",
    "\n"
   ]
  },
  {
   "cell_type": "code",
   "execution_count": 209,
   "metadata": {},
   "outputs": [
    {
     "data": {
      "text/plain": [
       "99.73"
      ]
     },
     "execution_count": 209,
     "metadata": {},
     "output_type": "execute_result"
    }
   ],
   "source": [
    "import statistics as stat\n",
    "round(stat.mean(high_response),2)\n"
   ]
  },
  {
   "cell_type": "code",
   "execution_count": 201,
   "metadata": {},
   "outputs": [
    {
     "name": "stdout",
     "output_type": "stream",
     "text": [
      "5.72\n",
      "99.09\n"
     ]
    }
   ],
   "source": [
    "print(round(stat.mean(very_high_dispute),2))\n",
    "print(round(stat.mean(very_high_response),2))"
   ]
  },
  {
   "cell_type": "code",
   "execution_count": 232,
   "metadata": {},
   "outputs": [],
   "source": [
    "x_axis=['More than 50k', ' Between 10k and 50k',' Between 5k and 10k','Less than 5k']\n",
    "y_axis_1=[round(stat.mean(very_high_response),2),round(stat.mean(high_response),2),round(stat.mean(medium_response),2),round(stat.mean(low_response),2)]"
   ]
  },
  {
   "cell_type": "code",
   "execution_count": 245,
   "metadata": {},
   "outputs": [
    {
     "data": {
      "text/plain": [
       "Text(0.5, 1.0, 'Timely Response Chart')"
      ]
     },
     "execution_count": 245,
     "metadata": {},
     "output_type": "execute_result"
    },
    {
     "data": {
      "image/png": "[encoded data removed]",
      "text/plain": [
       "<Figure size 1000x800 with 1 Axes>"
      ]
     },
     "metadata": {},
     "output_type": "display_data"
    }
   ],
   "source": [
    "plt.figure(figsize=(10,8))\n",
    "custom_colors = ['green', 'orange', 'purple','red']\n",
    "plt.bar(x_axis,y_axis_1,color=custom_colors)\n",
    "plt.xlabel(\"Companies With Number of Complaints\")\n",
    "plt.ylabel(\"Percentage of Timely Response\")\n",
    "plt.title(\"Timely Response Chart\")\n",
    "#plt.bar_label(y_axis_1)\n",
    "#sns.barplot(y_axis,x_axis_1\n",
    "\n"
   ]
  },
  {
   "cell_type": "code",
   "execution_count": 237,
   "metadata": {},
   "outputs": [],
   "source": [
    "x_axis=['More than 50k', ' Between 10k and 50k',' Between 5k and 10k','Less than 5k']\n",
    "y_axis_2=[round(stat.mean(very_high_dispute),2),round(stat.mean(high_dispute),2),round(stat.mean(medium_dispute),2),round(stat.mean(low_dispute),2)]"
   ]
  },
  {
   "cell_type": "code",
   "execution_count": 242,
   "metadata": {},
   "outputs": [
    {
     "data": {
      "text/plain": [
       "Text(0.5, 1.0, 'Disputed Consumers Chart')"
      ]
     },
     "execution_count": 242,
     "metadata": {},
     "output_type": "execute_result"
    },
    {
     "data": {
      "image/png": "[encoded data removed]",
      "text/plain": [
       "<Figure size 1000x800 with 1 Axes>"
      ]
     },
     "metadata": {},
     "output_type": "display_data"
    }
   ],
   "source": [
    "plt.figure(figsize=(10, 8))\n",
    "custom_colors = ['green', 'orange', 'purple','red']\n",
    "plt.bar(x_axis,y_axis_2,color=custom_colors)\n",
    "plt.xlabel(\"Companies With Number of Complaints\")\n",
    "plt.ylabel(\"Percentage of Disputed Consumers\")\n",
    "plt.title(\"Disputed Consumers Chart\")"
   ]
  },
  {
   "cell_type": "code",
   "execution_count": 185,
   "metadata": {},
   "outputs": [
    {
     "name": "stdout",
     "output_type": "stream",
     "text": [
      "[0.0]\n"
     ]
    }
   ],
   "source": [
    "print(low_dispute)"
   ]
  },
  {
   "cell_type": "code",
   "execution_count": 250,
   "metadata": {},
   "outputs": [
    {
     "data": {
      "text/plain": [
       "Index(['Date received', 'Product', 'Sub-product', 'Issue', 'Sub-issue',\n",
       "       'Consumer complaint narrative', 'Company public response', 'Company',\n",
       "       'State', 'ZIP code', 'Tags', 'Consumer consent provided?',\n",
       "       'Submitted via', 'Date sent to company', 'Company response to consumer',\n",
       "       'Timely response?', 'Consumer disputed?', 'Complaint ID'],\n",
       "      dtype='object')"
      ]
     },
     "execution_count": 250,
     "metadata": {},
     "output_type": "execute_result"
    }
   ],
   "source": [
    "df.columns"
   ]
  },
  {
   "cell_type": "code",
   "execution_count": 255,
   "metadata": {},
   "outputs": [
    {
     "data": {
      "text/html": [
       "<div>\n",
       "<style scoped>\n",
       "    .dataframe tbody tr th:only-of-type {\n",
       "        vertical-align: middle;\n",
       "    }\n",
       "\n",
       "    .dataframe tbody tr th {\n",
       "        vertical-align: top;\n",
       "    }\n",
       "\n",
       "    .dataframe thead th {\n",
       "        text-align: right;\n",
       "    }\n",
       "</style>\n",
       "<table border=\"1\" class=\"dataframe\">\n",
       "  <thead>\n",
       "    <tr style=\"text-align: right;\">\n",
       "      <th></th>\n",
       "      <th></th>\n",
       "      <th>Complaint ID</th>\n",
       "    </tr>\n",
       "    <tr>\n",
       "      <th>Company</th>\n",
       "      <th>Product</th>\n",
       "      <th></th>\n",
       "    </tr>\n",
       "  </thead>\n",
       "  <tbody>\n",
       "    <tr>\n",
       "      <th>EQUIFAX, INC.</th>\n",
       "      <th>Credit reporting, credit repair services, or other personal consumer reports</th>\n",
       "      <td>657809</td>\n",
       "    </tr>\n",
       "    <tr>\n",
       "      <th>TRANSUNION INTERMEDIATE HOLDINGS, INC.</th>\n",
       "      <th>Credit reporting, credit repair services, or other personal consumer reports</th>\n",
       "      <td>577939</td>\n",
       "    </tr>\n",
       "    <tr>\n",
       "      <th>Experian Information Solutions Inc.</th>\n",
       "      <th>Credit reporting, credit repair services, or other personal consumer reports</th>\n",
       "      <td>524873</td>\n",
       "    </tr>\n",
       "    <tr>\n",
       "      <th>EQUIFAX, INC.</th>\n",
       "      <th>Credit reporting</th>\n",
       "      <td>48128</td>\n",
       "    </tr>\n",
       "    <tr>\n",
       "      <th>BANK OF AMERICA, NATIONAL ASSOCIATION</th>\n",
       "      <th>Mortgage</th>\n",
       "      <td>46765</td>\n",
       "    </tr>\n",
       "    <tr>\n",
       "      <th>WELLS FARGO &amp; COMPANY</th>\n",
       "      <th>Mortgage</th>\n",
       "      <td>45445</td>\n",
       "    </tr>\n",
       "    <tr>\n",
       "      <th>Experian Information Solutions Inc.</th>\n",
       "      <th>Credit reporting</th>\n",
       "      <td>45378</td>\n",
       "    </tr>\n",
       "    <tr>\n",
       "      <th>TRANSUNION INTERMEDIATE HOLDINGS, INC.</th>\n",
       "      <th>Credit reporting</th>\n",
       "      <td>39821</td>\n",
       "    </tr>\n",
       "    <tr>\n",
       "      <th>Ocwen Financial Corporation</th>\n",
       "      <th>Mortgage</th>\n",
       "      <td>31973</td>\n",
       "    </tr>\n",
       "    <tr>\n",
       "      <th>Navient Solutions, LLC.</th>\n",
       "      <th>Student loan</th>\n",
       "      <td>31420</td>\n",
       "    </tr>\n",
       "  </tbody>\n",
       "</table>\n",
       "</div>"
      ],
      "text/plain": [
       "                                                                                           Complaint ID\n",
       "Company                                Product                                                         \n",
       "EQUIFAX, INC.                          Credit reporting, credit repair services, or ot...        657809\n",
       "TRANSUNION INTERMEDIATE HOLDINGS, INC. Credit reporting, credit repair services, or ot...        577939\n",
       "Experian Information Solutions Inc.    Credit reporting, credit repair services, or ot...        524873\n",
       "EQUIFAX, INC.                          Credit reporting                                           48128\n",
       "BANK OF AMERICA, NATIONAL ASSOCIATION  Mortgage                                                   46765\n",
       "WELLS FARGO & COMPANY                  Mortgage                                                   45445\n",
       "Experian Information Solutions Inc.    Credit reporting                                           45378\n",
       "TRANSUNION INTERMEDIATE HOLDINGS, INC. Credit reporting                                           39821\n",
       "Ocwen Financial Corporation            Mortgage                                                   31973\n",
       "Navient Solutions, LLC.                Student loan                                               31420"
      ]
     },
     "execution_count": 255,
     "metadata": {},
     "output_type": "execute_result"
    }
   ],
   "source": [
    "df.groupby(['Company','Product']).count().sort_values(by='Complaint ID',ascending=False)[['Complaint ID']].head(10)"
   ]
  },
  {
   "cell_type": "code",
   "execution_count": 51,
   "metadata": {},
   "outputs": [],
   "source": [
    "df_income=pd.read_csv('income.csv')\n",
    "#df_population=pd.read_csv('population.csv')\n",
    "df_population = pd.read_csv('population.csv', encoding='ISO-8859-1')\n",
    "\n"
   ]
  },
  {
   "cell_type": "code",
   "execution_count": 52,
   "metadata": {},
   "outputs": [],
   "source": [
    "df_population['State']=df_population['State'].str.strip()"
   ]
  },
  {
   "cell_type": "code",
   "execution_count": 53,
   "metadata": {},
   "outputs": [],
   "source": [
    "df_population.loc[:, 'State'] = df_population['State'].str.strip()\n"
   ]
  },
  {
   "cell_type": "code",
   "execution_count": 54,
   "metadata": {},
   "outputs": [
    {
     "name": "stdout",
     "output_type": "stream",
     "text": [
      "             State Median Income Code          Capital  Population  \\\n",
      "0          Alabama        51,113  AL       Montgomery    4,903,185   \n",
      "1           Alaska        72,231  AK           Juneau      731,545   \n",
      "2          Arizona        61,125  AZ          Phoenix    7,278,717   \n",
      "3         Arkansas        48,829  AR      Little Rock    3,017,804   \n",
      "4       California        69,759  CA       Sacramento   39,512,223   \n",
      "5         Colorado        74,172  CO           Denver    5,758,736   \n",
      "6      Connecticut        72,780  CT         Hartford    3,565,278   \n",
      "7         Delaware        62,318  DE            Dover      973,764   \n",
      "8          Florida        53,681  FL      Tallahassee   21,477,737   \n",
      "9          Georgia        57,016  GA          Atlanta   10,617,423   \n",
      "10          Hawaii        73,575  HI         Honolulu    1,415,872   \n",
      "11           Idaho        60,208  ID            Boise    1,787,065   \n",
      "12        Illinois        64,609  IL      Springfield   12,671,821   \n",
      "13         Indiana        58,873  IN     Indianapolis    6,732,219   \n",
      "14            Iowa        63,481  IA       Des Moines    3,155,070   \n",
      "15          Kansas        57,872  KS           Topeka    2,913,314   \n",
      "16        Kentucky        51,348  KY        Frankfort    4,467,673   \n",
      "17       Louisiana        43,903  LA      Baton Rouge    4,648,794   \n",
      "18           Maine        51,664  ME          Augusta    1,344,212   \n",
      "19        Maryland        81,084  MD        Annapolis    6,045,680   \n",
      "20   Massachusetts        73,227  MA           Boston    6,892,503   \n",
      "21        Michigan        57,700  MI          Lansing    9,986,857   \n",
      "22       Minnesota        71,920  MN         St. Paul    5,639,632   \n",
      "23     Mississippi        43,441  MS          Jackson    2,976,149   \n",
      "24        Missouri        56,885  MO   Jefferson City    6,137,428   \n",
      "25         Montana        59,087  MT           Helena    1,068,778   \n",
      "26        Nebraska        59,619  NE          Lincoln    1,934,408   \n",
      "27          Nevada        56,550  NV      Carson City    3,080,156   \n",
      "28   New Hampshire        74,801  NH          Concord    1,359,711   \n",
      "29      New Jersey        72,997  NJ          Trenton    8,882,190   \n",
      "30      New Mexico        47,855  NM         Santa Fe    2,096,829   \n",
      "31        New York        62,447  NY           Albany   19,453,561   \n",
      "32  North Carolina        50,343  NC          Raleigh   10,488,084   \n",
      "33    North Dakota        59,886  ND         Bismarck      762,062   \n",
      "34            Ohio        59,768  OH         Columbus   11,689,100   \n",
      "35        Oklahoma        55,006  OK    Oklahoma City    3,956,971   \n",
      "36          Oregon        64,610  OR            Salem    4,217,737   \n",
      "37    Pennsylvania        63,173  PA       Harrisburg   12,801,989   \n",
      "38    Rhode Island        66,390  RI       Providence    1,059,361   \n",
      "39  South Carolina        54,971  SC         Columbia    5,148,714   \n",
      "40    South Dakota        56,894  SD           Pierre      884,659   \n",
      "41       Tennessee        55,240  TN        Nashville    6,829,174   \n",
      "42           Texas        59,295  TX           Austin   28,995,881   \n",
      "43            Utah        71,319  UT   Salt Lake City    3,205,958   \n",
      "44         Vermont        63,805  VT       Montpelier      623,989   \n",
      "45        Virginia        71,293  VA         Richmond    8,535,519   \n",
      "46      Washington        75,418  WA          Olympia    7,614,893   \n",
      "47   West Virginia        45,392  WV       Charleston    1,792,147   \n",
      "48       Wisconsin        63,451  WI          Madison    5,822,434   \n",
      "49         Wyoming        57,837  WY         Cheyenne      578,759   \n",
      "\n",
      "   Area (square miles)  \n",
      "0               52,420  \n",
      "1              665,384  \n",
      "2              113,990  \n",
      "3               53,179  \n",
      "4              163,695  \n",
      "5              104,094  \n",
      "6                5,543  \n",
      "7                2,489  \n",
      "8               65,758  \n",
      "9               59,425  \n",
      "10              10,932  \n",
      "11              83,569  \n",
      "12              57,914  \n",
      "13              36,420  \n",
      "14              56,273  \n",
      "15              82,278  \n",
      "16              40,408  \n",
      "17              52,378  \n",
      "18              35,380  \n",
      "19              12,406  \n",
      "20              10,554  \n",
      "21              96,714  \n",
      "22              86,936  \n",
      "23              48,432  \n",
      "24              69,707  \n",
      "25             147,040  \n",
      "26              77,348  \n",
      "27             110,572  \n",
      "28               9,349  \n",
      "29               8,723  \n",
      "30             121,590  \n",
      "31              54,555  \n",
      "32              53,819  \n",
      "33              70,698  \n",
      "34              44,826  \n",
      "35              69,899  \n",
      "36              98,379  \n",
      "37              46,054  \n",
      "38               1,545  \n",
      "39              32,020  \n",
      "40              77,116  \n",
      "41              42,144  \n",
      "42             268,596  \n",
      "43              84,897  \n",
      "44               9,616  \n",
      "45              42,775  \n",
      "46              71,298  \n",
      "47              24,230  \n",
      "48              65,496  \n",
      "49              97,813  \n"
     ]
    }
   ],
   "source": [
    "print(pd.merge(df_income,df_population, on='State'))"
   ]
  },
  {
   "cell_type": "code",
   "execution_count": 56,
   "metadata": {},
   "outputs": [],
   "source": [
    "df_state=pd.merge(df_income,df_population, on='State')\n",
    "df_state.to_csv('State_Stat.csv',index=False)"
   ]
  },
  {
   "cell_type": "code",
   "execution_count": 57,
   "metadata": {},
   "outputs": [],
   "source": [
    "# df_population.merge(df_income,on='State')\n",
    "# df_population"
   ]
  },
  {
   "cell_type": "code",
   "execution_count": null,
   "metadata": {},
   "outputs": [],
   "source": []
  },
  {
   "cell_type": "code",
   "execution_count": 42,
   "metadata": {},
   "outputs": [
    {
     "data": {
      "text/plain": [
       "0    Alabama\n",
       "Name: State, dtype: object"
      ]
     },
     "execution_count": 42,
     "metadata": {},
     "output_type": "execute_result"
    }
   ],
   "source": [
    "df_population[df_population['State']=='Alabama']['State']"
   ]
  },
  {
   "cell_type": "code",
   "execution_count": 14,
   "metadata": {},
   "outputs": [
    {
     "name": "stdout",
     "output_type": "stream",
     "text": [
      "             State Median Income\n",
      "0          Alabama        51,113\n",
      "1           Alaska        72,231\n",
      "2          Arizona        61,125\n",
      "3         Arkansas        48,829\n",
      "4       California        69,759\n",
      "5         Colorado        74,172\n",
      "6      Connecticut        72,780\n",
      "7         Delaware        62,318\n",
      "8             D.C.        83,382\n",
      "9          Florida        53,681\n",
      "10         Georgia        57,016\n",
      "11          Hawaii        73,575\n",
      "12           Idaho        60,208\n",
      "13        Illinois        64,609\n",
      "14         Indiana        58,873\n",
      "15            Iowa        63,481\n",
      "16          Kansas        57,872\n",
      "17        Kentucky        51,348\n",
      "18       Louisiana        43,903\n",
      "19           Maine        51,664\n",
      "20        Maryland        81,084\n",
      "21   Massachusetts        73,227\n",
      "22        Michigan        57,700\n",
      "23       Minnesota        71,920\n",
      "24     Mississippi        43,441\n",
      "25        Missouri        56,885\n",
      "26         Montana        59,087\n",
      "27        Nebraska        59,619\n",
      "28          Nevada        56,550\n",
      "29   New Hampshire        74,801\n",
      "30      New Jersey        72,997\n",
      "31      New Mexico        47,855\n",
      "32        New York        62,447\n",
      "33  North Carolina        50,343\n",
      "34    North Dakota        59,886\n",
      "35            Ohio        59,768\n",
      "36        Oklahoma        55,006\n",
      "37          Oregon        64,610\n",
      "38    Pennsylvania        63,173\n",
      "39    Rhode Island        66,390\n",
      "40  South Carolina        54,971\n",
      "41    South Dakota        56,894\n",
      "42       Tennessee        55,240\n",
      "43           Texas        59,295\n",
      "44            Utah        71,319\n",
      "45         Vermont        63,805\n",
      "46        Virginia        71,293\n",
      "47      Washington        75,418\n",
      "48   West Virginia        45,392\n",
      "49       Wisconsin        63,451\n",
      "50         Wyoming        57,837\n",
      "             State Code       Capital  Population Area (square miles)\n",
      "0         Alabama   AL    Montgomery    4,903,185              52,420\n",
      "1          Alaska   AK        Juneau      731,545             665,384\n",
      "2         Arizona   AZ       Phoenix    7,278,717             113,990\n",
      "3        Arkansas   AR   Little Rock    3,017,804              53,179\n",
      "4      California   CA    Sacramento   39,512,223             163,695\n",
      "..             ...  ...           ...         ...                 ...\n",
      "60    Kingman Reef  NaN           NaN         NaN               0.005\n",
      "61    Midway Atoll  NaN           NaN         NaN                   3\n",
      "62  Navassa Island  NaN           NaN         NaN                   3\n",
      "63   Palmyra Atoll  NaN           NaN         NaN                 1.5\n",
      "64     Wake Island  NaN           NaN         NaN                 2.5\n",
      "\n",
      "[65 rows x 5 columns]\n"
     ]
    }
   ],
   "source": [
    "print(df_income)\n",
    "print(df_population)\n"
   ]
  },
  {
   "cell_type": "code",
   "execution_count": 4,
   "metadata": {},
   "outputs": [],
   "source": [
    "pd.set_option('display.max_colwidth', None)\n",
    "pd.set_option('display.max_column', None)\n",
    "pd.set_option('display.max_rows', None)"
   ]
  },
  {
   "cell_type": "code",
   "execution_count": 244,
   "metadata": {},
   "outputs": [
    {
     "data": {
      "text/plain": [
       "Date received                                                          2023-06-24\n",
       "Product                         Credit reporting, credit repair services, or o...\n",
       "Sub-product                                                      Credit reporting\n",
       "Issue                                        Incorrect information on your report\n",
       "Sub-issue                                                Account status incorrect\n",
       "Consumer complaint narrative    I purchased a vehicle from Regional Acceptance...\n",
       "Company public response         Company has responded to the consumer and the ...\n",
       "Company                                              TRUIST FINANCIAL CORPORATION\n",
       "State                                                                          IN\n",
       "ZIP code                                                                    46804\n",
       "Tags                                                                Servicemember\n",
       "Consumer consent provided?                                       Consent provided\n",
       "Submitted via                                                                 Web\n",
       "Date sent to company                                                   2023-06-24\n",
       "Company response to consumer                              Closed with explanation\n",
       "Timely response?                                                              Yes\n",
       "Consumer disputed?                                                            NaN\n",
       "Complaint ID                                                              7161475\n",
       "Name: 0, dtype: object"
      ]
     },
     "execution_count": 244,
     "metadata": {},
     "output_type": "execute_result"
    }
   ],
   "source": [
    "df.iloc[0]"
   ]
  },
  {
   "cell_type": "code",
   "execution_count": 6,
   "metadata": {},
   "outputs": [
    {
     "data": {
      "text/plain": [
       "Credit reporting, credit repair services, or other personal consumer reports    2022217\n",
       "Debt collection                                                                  493624\n",
       "Mortgage                                                                         380138\n",
       "Credit card or prepaid card                                                      196530\n",
       "Checking or savings account                                                      173009\n",
       "Credit reporting                                                                 140429\n",
       "Credit card                                                                       89190\n",
       "Bank account or service                                                           86205\n",
       "Student loan                                                                      75129\n",
       "Money transfer, virtual currency, or money service                                56246\n",
       "Vehicle loan or lease                                                             45247\n",
       "Consumer Loan                                                                     31575\n",
       "Payday loan, title loan, or personal loan                                         29453\n",
       "Payday loan                                                                        5541\n",
       "Money transfers                                                                    5354\n",
       "Prepaid card                                                                       3819\n",
       "Other financial service                                                            1058\n",
       "Virtual currency                                                                     18\n",
       "Name: Product, dtype: int64"
      ]
     },
     "execution_count": 6,
     "metadata": {},
     "output_type": "execute_result"
    }
   ],
   "source": [
    "df['Product'].value_counts()"
   ]
  },
  {
   "cell_type": "code",
   "execution_count": 7,
   "metadata": {},
   "outputs": [
    {
     "data": {
      "text/plain": [
       "EQUIFAX, INC.                             657809\n",
       "TRANSUNION INTERMEDIATE HOLDINGS, INC.    577939\n",
       "Experian Information Solutions Inc.       524873\n",
       "CAPITAL ONE FINANCIAL CORPORATION          21026\n",
       "SYNCHRONY FINANCIAL                         8853\n",
       "CITIBANK, N.A.                              8769\n",
       "LEXISNEXIS                                  8732\n",
       "JPMORGAN CHASE & CO.                        8647\n",
       "WELLS FARGO & COMPANY                       7568\n",
       "BANK OF AMERICA, NATIONAL ASSOCIATION       7507\n",
       "Name: Company, dtype: int64"
      ]
     },
     "execution_count": 7,
     "metadata": {},
     "output_type": "execute_result"
    }
   ],
   "source": [
    "df[df['Product']=='Credit reporting, credit repair services, or other personal consumer reports']['Company'].value_counts().head(10)"
   ]
  },
  {
   "cell_type": "code",
   "execution_count": 59,
   "metadata": {},
   "outputs": [
    {
     "data": {
      "text/plain": [
       "(2022217, 18)"
      ]
     },
     "execution_count": 59,
     "metadata": {},
     "output_type": "execute_result"
    }
   ],
   "source": [
    "df_credit=df[df['Product']=='Credit reporting, credit repair services, or other personal consumer reports']\n",
    "df_credit.shape"
   ]
  },
  {
   "cell_type": "code",
   "execution_count": 9,
   "metadata": {},
   "outputs": [
    {
     "data": {
      "text/plain": [
       "Index(['Date received', 'Product', 'Sub-product', 'Issue', 'Sub-issue',\n",
       "       'Consumer complaint narrative', 'Company public response', 'Company',\n",
       "       'State', 'ZIP code', 'Tags', 'Consumer consent provided?',\n",
       "       'Submitted via', 'Date sent to company', 'Company response to consumer',\n",
       "       'Timely response?', 'Consumer disputed?', 'Complaint ID'],\n",
       "      dtype='object')"
      ]
     },
     "execution_count": 9,
     "metadata": {},
     "output_type": "execute_result"
    }
   ],
   "source": [
    "df_credit.columns"
   ]
  },
  {
   "cell_type": "code",
   "execution_count": 10,
   "metadata": {},
   "outputs": [
    {
     "data": {
      "text/plain": [
       "'2017-04-24'"
      ]
     },
     "execution_count": 10,
     "metadata": {},
     "output_type": "execute_result"
    }
   ],
   "source": [
    "df_credit['Date sent to company'].min()"
   ]
  },
  {
   "cell_type": "code",
   "execution_count": 19,
   "metadata": {},
   "outputs": [
    {
     "data": {
      "text/plain": [
       "EQUIFAX, INC.                             656065\n",
       "TRANSUNION INTERMEDIATE HOLDINGS, INC.    577626\n",
       "Experian Information Solutions Inc.       524838\n",
       "CAPITAL ONE FINANCIAL CORPORATION          21021\n",
       "SYNCHRONY FINANCIAL                         8853\n",
       "CITIBANK, N.A.                              8762\n",
       "LEXISNEXIS                                  8697\n",
       "JPMORGAN CHASE & CO.                        8647\n",
       "WELLS FARGO & COMPANY                       7443\n",
       "BANK OF AMERICA, NATIONAL ASSOCIATION       7033\n",
       "Name: Company, dtype: int64"
      ]
     },
     "execution_count": 19,
     "metadata": {},
     "output_type": "execute_result"
    }
   ],
   "source": [
    "df_credit[df_credit['Timely response?']=='Yes']['Company'].value_counts().head(10)"
   ]
  },
  {
   "cell_type": "code",
   "execution_count": 20,
   "metadata": {},
   "outputs": [
    {
     "data": {
      "text/plain": [
       "EQUIFAX, INC.                             1744\n",
       "BANK OF AMERICA, NATIONAL ASSOCIATION      474\n",
       "TRANSUNION INTERMEDIATE HOLDINGS, INC.     313\n",
       "Credit Karma, LLC                          163\n",
       "Colony Brands, Inc.                        145\n",
       "Genesis FS Card Services, Inc.             135\n",
       "WELLS FARGO & COMPANY                      125\n",
       "Atlanticus Services Corporation            112\n",
       "Self Financial Inc.                         95\n",
       "Screening Reports Inc.                      84\n",
       "Name: Company, dtype: int64"
      ]
     },
     "execution_count": 20,
     "metadata": {},
     "output_type": "execute_result"
    }
   ],
   "source": [
    "df_credit[df_credit['Timely response?']=='No']['Company'].value_counts().head(10)"
   ]
  },
  {
   "cell_type": "code",
   "execution_count": 80,
   "metadata": {},
   "outputs": [
    {
     "data": {
      "text/plain": [
       "State\n",
       "FL    263805\n",
       "TX    232359\n",
       "CA    207450\n",
       "GA    161452\n",
       "NY    123772\n",
       "PA    112924\n",
       "IL     84932\n",
       "NC     73744\n",
       "NJ     61969\n",
       "AL     51423\n",
       "Name: Complaint ID, dtype: int64"
      ]
     },
     "execution_count": 80,
     "metadata": {},
     "output_type": "execute_result"
    }
   ],
   "source": [
    "df_credit.groupby('State').count()['Complaint ID'].sort_values(ascending=False).head(10)"
   ]
  },
  {
   "cell_type": "code",
   "execution_count": 29,
   "metadata": {},
   "outputs": [
    {
     "data": {
      "text/html": [
       "<div>\n",
       "<style scoped>\n",
       "    .dataframe tbody tr th:only-of-type {\n",
       "        vertical-align: middle;\n",
       "    }\n",
       "\n",
       "    .dataframe tbody tr th {\n",
       "        vertical-align: top;\n",
       "    }\n",
       "\n",
       "    .dataframe thead th {\n",
       "        text-align: right;\n",
       "    }\n",
       "</style>\n",
       "<table border=\"1\" class=\"dataframe\">\n",
       "  <thead>\n",
       "    <tr style=\"text-align: right;\">\n",
       "      <th></th>\n",
       "      <th>Complaint ID</th>\n",
       "    </tr>\n",
       "    <tr>\n",
       "      <th>State</th>\n",
       "      <th></th>\n",
       "    </tr>\n",
       "  </thead>\n",
       "  <tbody>\n",
       "    <tr>\n",
       "      <th>FL</th>\n",
       "      <td>263805</td>\n",
       "    </tr>\n",
       "    <tr>\n",
       "      <th>TX</th>\n",
       "      <td>232359</td>\n",
       "    </tr>\n",
       "    <tr>\n",
       "      <th>CA</th>\n",
       "      <td>207450</td>\n",
       "    </tr>\n",
       "    <tr>\n",
       "      <th>GA</th>\n",
       "      <td>161452</td>\n",
       "    </tr>\n",
       "    <tr>\n",
       "      <th>NY</th>\n",
       "      <td>123772</td>\n",
       "    </tr>\n",
       "  </tbody>\n",
       "</table>\n",
       "</div>"
      ],
      "text/plain": [
       "       Complaint ID\n",
       "State              \n",
       "FL           263805\n",
       "TX           232359\n",
       "CA           207450\n",
       "GA           161452\n",
       "NY           123772"
      ]
     },
     "execution_count": 29,
     "metadata": {},
     "output_type": "execute_result"
    }
   ],
   "source": [
    "df_credit.groupby('State').agg({'Complaint ID':'count'}).sort_values(by='Complaint ID',ascending=False).head()"
   ]
  },
  {
   "cell_type": "code",
   "execution_count": 81,
   "metadata": {},
   "outputs": [],
   "source": [
    "df_mortgage=df[df['Product']=='Mortgage']\n"
   ]
  },
  {
   "cell_type": "code",
   "execution_count": 82,
   "metadata": {},
   "outputs": [
    {
     "data": {
      "text/plain": [
       "State\n",
       "CA    61483\n",
       "FL    39490\n",
       "NY    23412\n",
       "TX    21795\n",
       "GA    18732\n",
       "NJ    17521\n",
       "MD    14078\n",
       "IL    13147\n",
       "PA    13001\n",
       "VA    12098\n",
       "Name: Complaint ID, dtype: int64"
      ]
     },
     "execution_count": 82,
     "metadata": {},
     "output_type": "execute_result"
    }
   ],
   "source": [
    "df_mortgage.groupby('State').count()['Complaint ID'].sort_values(ascending=False).head(10)"
   ]
  },
  {
   "cell_type": "code",
   "execution_count": 83,
   "metadata": {},
   "outputs": [
    {
     "data": {
      "text/plain": [
       "Company\n",
       "BANK OF AMERICA, NATIONAL ASSOCIATION    46765\n",
       "WELLS FARGO & COMPANY                    45445\n",
       "Ocwen Financial Corporation              31973\n",
       "Mr. Cooper Group Inc.                    26188\n",
       "JPMORGAN CHASE & CO.                     23989\n",
       "Ditech Financial LLC                     13629\n",
       "SELECT PORTFOLIO SERVICING, INC.         12015\n",
       "CITIBANK, N.A.                           10271\n",
       "Shellpoint Partners, LLC                  7771\n",
       "U.S. BANCORP                              7595\n",
       "Name: Complaint ID, dtype: int64"
      ]
     },
     "execution_count": 83,
     "metadata": {},
     "output_type": "execute_result"
    }
   ],
   "source": [
    "df_mortgage.groupby('Company').count()['Complaint ID'].sort_values(ascending=False).head(10)"
   ]
  },
  {
   "cell_type": "code",
   "execution_count": 88,
   "metadata": {},
   "outputs": [
    {
     "data": {
      "text/plain": [
       "array(['IN', 'GA', 'NY', 'TX', 'IA', 'AR', 'PA', 'MI', 'NM', 'VA', 'FL',\n",
       "       'MA', 'LA', 'OH', 'MS', 'CA', nan, 'WI', 'AL', 'NC', 'MN', 'NJ',\n",
       "       'MO', 'NV', 'WA', 'CO', 'IL', 'MD', 'AE', 'AZ', 'OK', 'SC', 'TN',\n",
       "       'KY', 'OR', 'HI', 'CT', 'DE', 'ID', 'GU', 'DC', 'NE', 'WV', 'ND',\n",
       "       'MT', 'PR', 'RI', 'SD', 'VT', 'UT', 'AK', 'NH', 'KS', 'ME', 'WY',\n",
       "       'AS', 'AP', 'VI', 'UNITED STATES MINOR OUTLYING ISLANDS', 'AA',\n",
       "       'FM', 'MP', 'MH', 'PW'], dtype=object)"
      ]
     },
     "execution_count": 88,
     "metadata": {},
     "output_type": "execute_result"
    }
   ],
   "source": [
    "df['State'].unique()"
   ]
  },
  {
   "cell_type": "code",
   "execution_count": 79,
   "metadata": {},
   "outputs": [],
   "source": [
    "import numpy as np\n",
    "df_complaints=df.dropna(subset='Consumer complaint narrative')"
   ]
  },
  {
   "cell_type": "code",
   "execution_count": 100,
   "metadata": {},
   "outputs": [
    {
     "data": {
      "text/plain": [
       "\"CREDIT CONTROL CORP failed to validate debt and prove a contractual agreement. Several rights were violated. Company 's Response was as follows CCC serves as an agent for the original creditors who own the debts assigned to us for collection. We do not purchase debt and are not subject to debt validation requirements for debt buyers. The debt is not mine. \\n\\nI have not supplied proof under the estoppel by silence, Engelhardt v. gravens ( mo ) 281 SW 715, 719, I presume that no proof of the alleged debt, nor therefore any such debt, in fact therefore exists.\""
      ]
     },
     "execution_count": 100,
     "metadata": {},
     "output_type": "execute_result"
    }
   ],
   "source": [
    "df_complaints['Consumer complaint narrative'].iloc[6]"
   ]
  },
  {
   "cell_type": "code",
   "execution_count": 101,
   "metadata": {},
   "outputs": [
    {
     "name": "stdout",
     "output_type": "stream",
     "text": [
      "0.06547619047619048\n"
     ]
    }
   ],
   "source": [
    "from textblob import TextBlob\n",
    "\n",
    "a=df_complaints['Consumer complaint narrative'].iloc[6]\n",
    "\n",
    "blob=TextBlob(a)\n",
    "seti=blob.sentiment.polarity\n",
    "print(seti)"
   ]
  },
  {
   "cell_type": "code",
   "execution_count": 104,
   "metadata": {},
   "outputs": [
    {
     "name": "stdout",
     "output_type": "stream",
     "text": [
      "{'neg': 0.224, 'neu': 0.68, 'pos': 0.096, 'compound': -0.9196}\n",
      "-0.9196\n"
     ]
    }
   ],
   "source": [
    "from nltk.sentiment.vader import SentimentIntensityAnalyzer\n",
    "import nltk\n",
    "\n",
    "\n",
    "# create a SentimentIntensityAnalyzer object\n",
    "analyzer = SentimentIntensityAnalyzer()\n",
    "\n",
    "# get the sentiment of the text\n",
    "text = df_complaints['Consumer complaint narrative'].iloc[6]\n",
    "scores = analyzer.polarity_scores(text)\n",
    "\n",
    "print(scores)\n",
    "print(scores['compound'])"
   ]
  },
  {
   "cell_type": "code",
   "execution_count": 105,
   "metadata": {},
   "outputs": [
    {
     "name": "stderr",
     "output_type": "stream",
     "text": [
      "/var/folders/7f/p642xsys1qdb9c8hcs8s95gh0000gn/T/ipykernel_9028/4049974050.py:1: SettingWithCopyWarning: \n",
      "A value is trying to be set on a copy of a slice from a DataFrame.\n",
      "Try using .loc[row_indexer,col_indexer] = value instead\n",
      "\n",
      "See the caveats in the documentation: https://pandas.pydata.org/pandas-docs/stable/user_guide/indexing.html#returning-a-view-versus-a-copy\n",
      "  df_complaints['sentiment']=None\n"
     ]
    }
   ],
   "source": [
    "df_complaints['sentiment']=None"
   ]
  },
  {
   "cell_type": "code",
   "execution_count": 106,
   "metadata": {},
   "outputs": [
    {
     "data": {
      "text/plain": [
       "Index(['Date received', 'Product', 'Sub-product', 'Issue', 'Sub-issue',\n",
       "       'Consumer complaint narrative', 'Company public response', 'Company',\n",
       "       'State', 'ZIP code', 'Tags', 'Consumer consent provided?',\n",
       "       'Submitted via', 'Date sent to company', 'Company response to consumer',\n",
       "       'Timely response?', 'Consumer disputed?', 'Complaint ID', 'sentiment'],\n",
       "      dtype='object')"
      ]
     },
     "execution_count": 106,
     "metadata": {},
     "output_type": "execute_result"
    }
   ],
   "source": [
    "df_complaints.columns"
   ]
  },
  {
   "cell_type": "code",
   "execution_count": 107,
   "metadata": {},
   "outputs": [
    {
     "name": "stderr",
     "output_type": "stream",
     "text": [
      "/var/folders/7f/p642xsys1qdb9c8hcs8s95gh0000gn/T/ipykernel_9028/1716581476.py:10: SettingWithCopyWarning: \n",
      "A value is trying to be set on a copy of a slice from a DataFrame\n",
      "\n",
      "See the caveats in the documentation: https://pandas.pydata.org/pandas-docs/stable/user_guide/indexing.html#returning-a-view-versus-a-copy\n",
      "  df_complaints['sentiment'].iloc[index]=scores['compound']\n"
     ]
    },
    {
     "ename": "IndexError",
     "evalue": "iloc cannot enlarge its target object",
     "output_type": "error",
     "traceback": [
      "\u001b[0;31m---------------------------------------------------------------------------\u001b[0m",
      "\u001b[0;31mIndexError\u001b[0m                                Traceback (most recent call last)",
      "Cell \u001b[0;32mIn [107], line 10\u001b[0m\n\u001b[1;32m      8\u001b[0m text\u001b[38;5;241m=\u001b[39mrow[\u001b[38;5;124m'\u001b[39m\u001b[38;5;124mConsumer complaint narrative\u001b[39m\u001b[38;5;124m'\u001b[39m]\n\u001b[1;32m      9\u001b[0m scores \u001b[38;5;241m=\u001b[39m analyzer\u001b[38;5;241m.\u001b[39mpolarity_scores(text)\n\u001b[0;32m---> 10\u001b[0m \u001b[43mdf_complaints\u001b[49m\u001b[43m[\u001b[49m\u001b[38;5;124;43m'\u001b[39;49m\u001b[38;5;124;43msentiment\u001b[39;49m\u001b[38;5;124;43m'\u001b[39;49m\u001b[43m]\u001b[49m\u001b[38;5;241;43m.\u001b[39;49m\u001b[43miloc\u001b[49m\u001b[43m[\u001b[49m\u001b[43mindex\u001b[49m\u001b[43m]\u001b[49m\u001b[38;5;241m=\u001b[39mscores[\u001b[38;5;124m'\u001b[39m\u001b[38;5;124mcompound\u001b[39m\u001b[38;5;124m'\u001b[39m]\n",
      "File \u001b[0;32m/opt/homebrew/lib/python3.10/site-packages/pandas/core/indexing.py:815\u001b[0m, in \u001b[0;36m_LocationIndexer.__setitem__\u001b[0;34m(self, key, value)\u001b[0m\n\u001b[1;32m    813\u001b[0m     key \u001b[39m=\u001b[39m com\u001b[39m.\u001b[39mapply_if_callable(key, \u001b[39mself\u001b[39m\u001b[39m.\u001b[39mobj)\n\u001b[1;32m    814\u001b[0m indexer \u001b[39m=\u001b[39m \u001b[39mself\u001b[39m\u001b[39m.\u001b[39m_get_setitem_indexer(key)\n\u001b[0;32m--> 815\u001b[0m \u001b[39mself\u001b[39;49m\u001b[39m.\u001b[39;49m_has_valid_setitem_indexer(key)\n\u001b[1;32m    817\u001b[0m iloc \u001b[39m=\u001b[39m \u001b[39mself\u001b[39m \u001b[39mif\u001b[39;00m \u001b[39mself\u001b[39m\u001b[39m.\u001b[39mname \u001b[39m==\u001b[39m \u001b[39m\"\u001b[39m\u001b[39miloc\u001b[39m\u001b[39m\"\u001b[39m \u001b[39melse\u001b[39;00m \u001b[39mself\u001b[39m\u001b[39m.\u001b[39mobj\u001b[39m.\u001b[39miloc\n\u001b[1;32m    818\u001b[0m iloc\u001b[39m.\u001b[39m_setitem_with_indexer(indexer, value, \u001b[39mself\u001b[39m\u001b[39m.\u001b[39mname)\n",
      "File \u001b[0;32m/opt/homebrew/lib/python3.10/site-packages/pandas/core/indexing.py:1518\u001b[0m, in \u001b[0;36m_iLocIndexer._has_valid_setitem_indexer\u001b[0;34m(self, indexer)\u001b[0m\n\u001b[1;32m   1516\u001b[0m \u001b[39melif\u001b[39;00m is_integer(i):\n\u001b[1;32m   1517\u001b[0m     \u001b[39mif\u001b[39;00m i \u001b[39m>\u001b[39m\u001b[39m=\u001b[39m \u001b[39mlen\u001b[39m(ax):\n\u001b[0;32m-> 1518\u001b[0m         \u001b[39mraise\u001b[39;00m \u001b[39mIndexError\u001b[39;00m(\u001b[39m\"\u001b[39m\u001b[39miloc cannot enlarge its target object\u001b[39m\u001b[39m\"\u001b[39m)\n\u001b[1;32m   1519\u001b[0m \u001b[39melif\u001b[39;00m \u001b[39misinstance\u001b[39m(i, \u001b[39mdict\u001b[39m):\n\u001b[1;32m   1520\u001b[0m     \u001b[39mraise\u001b[39;00m \u001b[39mIndexError\u001b[39;00m(\u001b[39m\"\u001b[39m\u001b[39miloc cannot enlarge its target object\u001b[39m\u001b[39m\"\u001b[39m)\n",
      "\u001b[0;31mIndexError\u001b[0m: iloc cannot enlarge its target object"
     ]
    }
   ],
   "source": [
    "from nltk.sentiment.vader import SentimentIntensityAnalyzer\n",
    "import nltk\n",
    "\n",
    "\n",
    "# create a SentimentIntensityAnalyzer object\n",
    "analyzer = SentimentIntensityAnalyzer()\n",
    "for index,row in df_complaints.iterrows():\n",
    "    text=row['Consumer complaint narrative']\n",
    "    scores = analyzer.polarity_scores(text)\n",
    "    df_complaints['sentiment'].iloc[index]=scores['compound']\n",
    "    "
   ]
  },
  {
   "cell_type": "code",
   "execution_count": 117,
   "metadata": {},
   "outputs": [
    {
     "name": "stderr",
     "output_type": "stream",
     "text": [
      "/var/folders/7f/p642xsys1qdb9c8hcs8s95gh0000gn/T/ipykernel_9028/1875276758.py:16: SettingWithCopyWarning: \n",
      "A value is trying to be set on a copy of a slice from a DataFrame.\n",
      "Try using .loc[row_indexer,col_indexer] = value instead\n",
      "\n",
      "See the caveats in the documentation: https://pandas.pydata.org/pandas-docs/stable/user_guide/indexing.html#returning-a-view-versus-a-copy\n",
      "  df_complaints['sentiment'] = sentiment_scores\n"
     ]
    }
   ],
   "source": [
    "from nltk.sentiment.vader import SentimentIntensityAnalyzer\n",
    "\n",
    "# Create a SentimentIntensityAnalyzer object\n",
    "analyzer = SentimentIntensityAnalyzer()\n",
    "\n",
    "# Create an empty list to store sentiment scores\n",
    "sentiment_scores = []\n",
    "\n",
    "# Iterate through each row in df_complaints\n",
    "for index, row in df_complaints.iterrows():\n",
    "    text = row['Consumer complaint narrative']\n",
    "    scores = analyzer.polarity_scores(text)\n",
    "    sentiment_scores.append(scores['compound'])\n",
    "\n",
    "# Add the sentiment scores list as a new column 'sentiment' in the DataFrame\n",
    "df_complaints['sentiment'] = sentiment_scores\n"
   ]
  },
  {
   "cell_type": "code",
   "execution_count": 120,
   "metadata": {},
   "outputs": [
    {
     "data": {
      "text/plain": [
       "Date received                                                          2023-06-20\n",
       "Product                                               Credit card or prepaid card\n",
       "Sub-product                            General-purpose credit card or charge card\n",
       "Issue                             Problem with a purchase shown on your statement\n",
       "Sub-issue                       Credit card company isn't resolving a dispute ...\n",
       "Consumer complaint narrative    I charge my card for XXXX for flights with XXX...\n",
       "Company public response         Company has responded to the consumer and the ...\n",
       "Company                                                      Netspend Corporation\n",
       "State                                                                          AZ\n",
       "ZIP code                                                                    851XX\n",
       "Tags                                                                          NaN\n",
       "Consumer consent provided?                                       Consent provided\n",
       "Submitted via                                                                 Web\n",
       "Date sent to company                                                   2023-06-20\n",
       "Company response to consumer                              Closed with explanation\n",
       "Timely response?                                                              Yes\n",
       "Consumer disputed?                                                            NaN\n",
       "Complaint ID                                                              7135073\n",
       "sentiment                                                                 -0.3595\n",
       "Name: 27671, dtype: object"
      ]
     },
     "execution_count": 120,
     "metadata": {},
     "output_type": "execute_result"
    }
   ],
   "source": [
    "df_complaints.iloc[1000]"
   ]
  },
  {
   "cell_type": "code",
   "execution_count": 121,
   "metadata": {},
   "outputs": [],
   "source": [
    "df_complaints.to_csv('sentiment.csv')"
   ]
  },
  {
   "cell_type": "code",
   "execution_count": 84,
   "metadata": {},
   "outputs": [
    {
     "data": {
      "text/plain": [
       "(3834782, 18)"
      ]
     },
     "execution_count": 84,
     "metadata": {},
     "output_type": "execute_result"
    }
   ],
   "source": [
    "df.shape"
   ]
  },
  {
   "cell_type": "code",
   "execution_count": 76,
   "metadata": {},
   "outputs": [
    {
     "ename": "AttributeError",
     "evalue": "'float' object has no attribute 'isnull'",
     "output_type": "error",
     "traceback": [
      "\u001b[0;31m---------------------------------------------------------------------------\u001b[0m",
      "\u001b[0;31mAttributeError\u001b[0m                            Traceback (most recent call last)",
      "Cell \u001b[0;32mIn [76], line 1\u001b[0m\n\u001b[0;32m----> 1\u001b[0m \u001b[38;5;28;01mif\u001b[39;00m \u001b[43mdf_complaints\u001b[49m\u001b[43m[\u001b[49m\u001b[38;5;124;43m'\u001b[39;49m\u001b[38;5;124;43mConsumer complaint narrative\u001b[39;49m\u001b[38;5;124;43m'\u001b[39;49m\u001b[43m]\u001b[49m\u001b[38;5;241;43m.\u001b[39;49m\u001b[43miloc\u001b[49m\u001b[43m[\u001b[49m\u001b[38;5;241;43m1\u001b[39;49m\u001b[43m]\u001b[49m\u001b[38;5;241;43m.\u001b[39;49m\u001b[43misnull\u001b[49m():\n\u001b[1;32m      2\u001b[0m     \u001b[38;5;28mprint\u001b[39m(\u001b[38;5;124m\"\u001b[39m\u001b[38;5;124mm\u001b[39m\u001b[38;5;124m\"\u001b[39m)\n",
      "\u001b[0;31mAttributeError\u001b[0m: 'float' object has no attribute 'isnull'"
     ]
    }
   ],
   "source": [
    "if df_complaints['Consumer complaint narrative'].iloc[1].isnull():\n",
    "    print(\"m\")"
   ]
  },
  {
   "cell_type": "code",
   "execution_count": 74,
   "metadata": {},
   "outputs": [
    {
     "data": {
      "text/plain": [
       "float"
      ]
     },
     "execution_count": 74,
     "metadata": {},
     "output_type": "execute_result"
    }
   ],
   "source": [
    "type(df_complaints['Consumer complaint narrative'].iloc[1])"
   ]
  },
  {
   "cell_type": "code",
   "execution_count": 68,
   "metadata": {},
   "outputs": [
    {
     "name": "stdout",
     "output_type": "stream",
     "text": [
      "-0.05535714285714285\n",
      "0.0\n"
     ]
    }
   ],
   "source": [
    "from textblob import TextBlob\n",
    "\n",
    "a=df_credit['Consumer complaint narrative'].iloc[0]\n",
    "\n",
    "blob=TextBlob(a)\n",
    "seti=blob.sentiment.polarity\n",
    "print(seti)\n",
    "\n",
    "a=\"i am dissatisfied\"\n",
    "\n",
    "blob=TextBlob(a)\n",
    "seti=blob.sentiment.polarity\n",
    "print(seti)"
   ]
  },
  {
   "cell_type": "code",
   "execution_count": 61,
   "metadata": {},
   "outputs": [
    {
     "data": {
      "text/plain": [
       "nan"
      ]
     },
     "execution_count": 61,
     "metadata": {},
     "output_type": "execute_result"
    }
   ],
   "source": [
    "df_credit['Consumer complaint narrative'].iloc[1]"
   ]
  },
  {
   "cell_type": "code",
   "execution_count": 60,
   "metadata": {},
   "outputs": [
    {
     "data": {
      "text/plain": [
       "\"I purchased a vehicle from Regional Acceptance XXXX, a XXXX XXXX XXXX. On XX/XX/XXXX, I was in a head on collision and the car was totaled, and reported as a total loss. In the month of XX/XX/XXXX I signed the car over as a total loss. XXXX XXXX XXXX company was to pay off the car in full that was the agreement before I signed the car over. XXXX XXXX sent the payoff amount to the wrong company and the other company cashed the check. It was never reported to me that Regional XXXX had not received the payment until XXXX when I went to go purchase another car and the finance company told me at the dealership I still had an open car loan. I then called Regional Acceptance about the car not being paid off and was informed they never received the check from the insurance company. I notified the insurance company and they said as soon as they received the check back they would re issue a check and pay Regional Acceptance. A couple weeks later Regional XXXX received payment. Never again did I hear from the insurance company or Regional XXXX that there was any left over balance. Until I went to get a mortgage in XXXX and it was reported on my credit XX/XX/XXXX that my car was repossessed and I had not paid {$930.00} left over on the vehicle. I notified Regional Acceptance that the vehicle was never reported repossessed and that it was never repossessed the car was totaled. They kept saying they never reported the car repossessed but I have a copy of my credit report and it clearly says repossessed. I also did an address change with the post office in XX/XX/XXXX. Regional Acceptance never attempted to notify me before reporting this to the creditors. They had my correct phone number and again never contacted me about the balance leftover. I then called again and spoke with a gentleman at Regional Acceptance that said they misreported and that the late payments that had been reported from XXXX-Present should be removed. He said he would put a note in for me to file with the credit bureaus because they refused to remove what was on my credit report claiming that they don't have the power to remove that stuff only XXXX or XXXX can. I have filed XXXX claims with the credit bureaus trying to get this information removed off my credit so I can purchase a home. No one will help me, No one will explain to me what happened, and its still remains on my credit. I am just trying to get the repossession and the late payments removed from my credit so that I can purchase a mortgage.\""
      ]
     },
     "execution_count": 60,
     "metadata": {},
     "output_type": "execute_result"
    }
   ],
   "source": [
    "df_credit['Consumer complaint narrative'].iloc[0]"
   ]
  },
  {
   "cell_type": "code",
   "execution_count": 69,
   "metadata": {},
   "outputs": [
    {
     "name": "stdout",
     "output_type": "stream",
     "text": [
      "{'neg': 0.038, 'neu': 0.851, 'pos': 0.111, 'compound': 0.9885}\n"
     ]
    },
    {
     "name": "stderr",
     "output_type": "stream",
     "text": [
      "[nltk_data] Downloading package vader_lexicon to\n",
      "[nltk_data]     /Users/matheen/nltk_data...\n",
      "[nltk_data]   Package vader_lexicon is already up-to-date!\n"
     ]
    }
   ],
   "source": [
    "from nltk.sentiment.vader import SentimentIntensityAnalyzer\n",
    "import nltk\n",
    "nltk.download(\"vader_lexicon\")\n",
    "\n",
    "\n",
    "# create a SentimentIntensityAnalyzer object\n",
    "analyzer = SentimentIntensityAnalyzer()\n",
    "\n",
    "# get the sentiment of the text\n",
    "text = df_credit['Consumer complaint narrative'].iloc[0]\n",
    "scores = analyzer.polarity_scores(text)\n",
    "\n",
    "print(scores)"
   ]
  },
  {
   "cell_type": "code",
   "execution_count": 98,
   "metadata": {},
   "outputs": [
    {
     "name": "stdout",
     "output_type": "stream",
     "text": [
      "0.0\n",
      "0.0\n"
     ]
    }
   ],
   "source": [
    "import spacy\n",
    "\n",
    "nlp = spacy.load(\"en_core_web_sm\")\n",
    "\n",
    "def sentiment_analysis(text: str) -> float:\n",
    "    doc = nlp(text)\n",
    "    total_sentiment = 0.0\n",
    "    num_tokens = 0\n",
    "    for token in doc:\n",
    "        if token.has_vector and token.vector_norm > 0:\n",
    "            total_sentiment += token.sentiment\n",
    "            num_tokens += 1\n",
    "    if num_tokens > 0:\n",
    "        print(total_sentiment)\n",
    "        average_sentiment = total_sentiment / num_tokens\n",
    "        return average_sentiment\n",
    "    else:\n",
    "        return 0.0\n",
    "\n",
    "text = \"I hate chocolate ice cream!\"\n",
    "sentiment = sentiment_analysis(text)\n",
    "print(sentiment)\n"
   ]
  },
  {
   "cell_type": "code",
   "execution_count": 79,
   "metadata": {},
   "outputs": [
    {
     "data": {
      "image/png": "[encoded data removed]",
      "text/plain": [
       "<Figure size 800x800 with 1 Axes>"
      ]
     },
     "metadata": {},
     "output_type": "display_data"
    }
   ],
   "source": [
    "# Python program to generate WordCloud\n",
    "\n",
    "# importing all necessary modules\n",
    "from wordcloud import WordCloud, STOPWORDS\n",
    "import matplotlib.pyplot as plt\n",
    "import pandas as pd\n",
    "\n",
    "# Reads 'Youtube04-Eminem.csv' file\n",
    "#df = pd.read_csv(r\"Youtube04-Eminem.csv\", encoding =\"latin-1\")\n",
    "\n",
    "comment_words = ''\n",
    "stopwords = set(STOPWORDS)\n",
    "\n",
    "# iterate through the csv file\n",
    "for val in df_credit['Consumer complaint narrative']:\n",
    "\t\n",
    "\t# typecaste each val to string\n",
    "\tval = str(val)\n",
    "\n",
    "\t# split the value\n",
    "\ttokens = val.split()\n",
    "\t\n",
    "\t# Converts each token into lowercase\n",
    "\tfor i in range(len(tokens)):\n",
    "\t\ttokens[i] = tokens[i].lower()\n",
    "\t\n",
    "\tcomment_words += \" \".join(tokens)+\" \"\n",
    "\n",
    "wordcloud = WordCloud(width = 800, height = 800, max_words=10,\n",
    "\t\t\t\tbackground_color ='white',\n",
    "\t\t\t\tstopwords = stopwords,\n",
    "\t\t\t\tmin_font_size = 10).generate(comment_words)\n",
    "\n",
    "# plot the WordCloud image\t\t\t\t\t\n",
    "plt.figure(figsize = (8, 8), facecolor = None)\n",
    "plt.imshow(wordcloud)\n",
    "plt.axis(\"off\")\n",
    "plt.tight_layout(pad = 0)\n",
    "\n",
    "plt.show()\n"
   ]
  },
  {
   "cell_type": "code",
   "execution_count": 60,
   "metadata": {},
   "outputs": [
    {
     "data": {
      "text/plain": [
       "True     1309927\n",
       "False     712290\n",
       "Name: Consumer complaint narrative, dtype: int64"
      ]
     },
     "execution_count": 60,
     "metadata": {},
     "output_type": "execute_result"
    }
   ],
   "source": [
    "df_credit['Consumer complaint narrative'].isnull().value_counts()"
   ]
  },
  {
   "cell_type": "code",
   "execution_count": 12,
   "metadata": {},
   "outputs": [
    {
     "data": {
      "text/plain": [
       "PORTFOLIO RECOVERY ASSOCIATES INC         20024\n",
       "ENCORE CAPITAL GROUP INC.                 18596\n",
       "Resurgent Capital Services L.P.           11164\n",
       "ERC                                       10344\n",
       "CAPITAL ONE FINANCIAL CORPORATION          9277\n",
       "EQUIFAX, INC.                              8436\n",
       "TRANSUNION INTERMEDIATE HOLDINGS, INC.     8239\n",
       "Experian Information Solutions Inc.        8185\n",
       "I.C. System, Inc.                          7707\n",
       "Convergent Resources, Inc.                 7476\n",
       "Name: Company, dtype: int64"
      ]
     },
     "execution_count": 12,
     "metadata": {},
     "output_type": "execute_result"
    }
   ],
   "source": [
    "df[df['Product']=='Debt collection']['Company'].value_counts().head(10)"
   ]
  },
  {
   "cell_type": "code",
   "execution_count": 13,
   "metadata": {},
   "outputs": [
    {
     "data": {
      "text/plain": [
       "Date received                                                                                                        2023-06-24\n",
       "Product                                                                                                         Debt collection\n",
       "Sub-product                                                                                                       Mortgage debt\n",
       "Issue                                                                                         Attempts to collect debt not owed\n",
       "Sub-issue                                                                                                     Debt is not yours\n",
       "Consumer complaint narrative                                                                                                NaN\n",
       "Company public response         Company has responded to the consumer and the CFPB and chooses not to provide a public response\n",
       "Company                                                                                                           MIDFIRST BANK\n",
       "State                                                                                                                        LA\n",
       "ZIP code                                                                                                                  70810\n",
       "Tags                                                                                                                        NaN\n",
       "Consumer consent provided?                                                                                 Consent not provided\n",
       "Submitted via                                                                                                               Web\n",
       "Date sent to company                                                                                                 2023-06-24\n",
       "Company response to consumer                                                                            Closed with explanation\n",
       "Timely response?                                                                                                            Yes\n",
       "Consumer disputed?                                                                                                          NaN\n",
       "Complaint ID                                                                                                            7161302\n",
       "Name: 21, dtype: object"
      ]
     },
     "execution_count": 13,
     "metadata": {},
     "output_type": "execute_result"
    }
   ],
   "source": [
    "df[df['Product']=='Debt collection'].iloc[1]"
   ]
  },
  {
   "cell_type": "code",
   "execution_count": 14,
   "metadata": {},
   "outputs": [
    {
     "data": {
      "text/plain": [
       "BANK OF AMERICA, NATIONAL ASSOCIATION    46765\n",
       "WELLS FARGO & COMPANY                    45445\n",
       "Ocwen Financial Corporation              31973\n",
       "Mr. Cooper Group Inc.                    26188\n",
       "JPMORGAN CHASE & CO.                     23989\n",
       "Ditech Financial LLC                     13629\n",
       "SELECT PORTFOLIO SERVICING, INC.         12015\n",
       "CITIBANK, N.A.                           10271\n",
       "Shellpoint Partners, LLC                  7771\n",
       "U.S. BANCORP                              7595\n",
       "Name: Company, dtype: int64"
      ]
     },
     "execution_count": 14,
     "metadata": {},
     "output_type": "execute_result"
    }
   ],
   "source": [
    "df[df['Product']=='Mortgage']['Company'].value_counts().head(10)"
   ]
  },
  {
   "cell_type": "code",
   "execution_count": 15,
   "metadata": {},
   "outputs": [
    {
     "data": {
      "text/plain": [
       "Date received                                                                                                                                                                                                                                                                                                                                                                                                                                                                                                                                                                                                                                                                                                                                                                                                                                                                                                                                 2023-06-25\n",
       "Product                                                                                                                                                                                                                                                                                                                                                                                                                                                                                                                                                                                                                                                                                                                                                                                                                                                                                                                                         Mortgage\n",
       "Sub-product                                                                                                                                                                                                                                                                                                                                                                                                                                                                                                                                                                                                                                                                                                                                                                                                                                                                                                                                  VA mortgage\n",
       "Issue                                                                                                                                                                                                                                                                                                                                                                                                                                                                                                                                                                                                                                                                                                                                                                                                                                                                                                                     Trouble during payment process\n",
       "Sub-issue                                                                                                                                                                                                                                                                                                                                                                                                                                                                                                                                                                                                                                                                                                                                                                                                                                                                                                                                            NaN\n",
       "Consumer complaint narrative    New American Funding Corporate Office : XXXX XXXX XXXX, XXXX XXXX, XXXX, CA XXXX. \\n\\nWas my loan servicer for a VA loan, I was credited by the seller for 11 months of property taxes at closing to keep me from having to fund the escrow account for the taxes for 2021. In the state of Illinois I am exempt from property taxes as a 100 % XXXX vet. XXXX XXXX knew this, they knew this as they did not factor taxes into my escrow only insurance. My exemptions have been filed with XXXX XXXX and provided to new XXXX, however they have added an additional payment of XXXX a month for property taxes I do not legally owe and they know this. \\nMy loan number is XXXX, I have made my payments as agreed upon when I bought the house. But no one can explain where the money I was credited for property taxes for 2021 went to. I was a VA loan so that limited what I was required to bring to closing.\n",
       "Company public response                                                                                                                                                                                                                                                                                                                                                                                                                                                                                                                                                                                                                                                                                                                                                                                                                                                                    Company believes complaint is the result of an isolated error\n",
       "Company                                                                                                                                                                                                                                                                                                                                                                                                                                                                                                                                                                                                                                                                                                                                                                                                                                                                                                                           BROKER SOLUTIONS, INC.\n",
       "State                                                                                                                                                                                                                                                                                                                                                                                                                                                                                                                                                                                                                                                                                                                                                                                                                                                                                                                                                 IL\n",
       "ZIP code                                                                                                                                                                                                                                                                                                                                                                                                                                                                                                                                                                                                                                                                                                                                                                                                                                                                                                                                           620XX\n",
       "Tags                                                                                                                                                                                                                                                                                                                                                                                                                                                                                                                                                                                                                                                                                                                                                                                                                                                                                                                                       Servicemember\n",
       "Consumer consent provided?                                                                                                                                                                                                                                                                                                                                                                                                                                                                                                                                                                                                                                                                                                                                                                                                                                                                                                              Consent provided\n",
       "Submitted via                                                                                                                                                                                                                                                                                                                                                                                                                                                                                                                                                                                                                                                                                                                                                                                                                                                                                                                                        Web\n",
       "Date sent to company                                                                                                                                                                                                                                                                                                                                                                                                                                                                                                                                                                                                                                                                                                                                                                                                                                                                                                                          2023-06-25\n",
       "Company response to consumer                                                                                                                                                                                                                                                                                                                                                                                                                                                                                                                                                                                                                                                                                                                                                                                                                                                                                                     Closed with explanation\n",
       "Timely response?                                                                                                                                                                                                                                                                                                                                                                                                                                                                                                                                                                                                                                                                                                                                                                                                                                                                                                                                     Yes\n",
       "Consumer disputed?                                                                                                                                                                                                                                                                                                                                                                                                                                                                                                                                                                                                                                                                                                                                                                                                                                                                                                                                   NaN\n",
       "Complaint ID                                                                                                                                                                                                                                                                                                                                                                                                                                                                                                                                                                                                                                                                                                                                                                                                                                                                                                                                     7164352\n",
       "Name: 187, dtype: object"
      ]
     },
     "execution_count": 15,
     "metadata": {},
     "output_type": "execute_result"
    }
   ],
   "source": [
    "df[df['Product']=='Mortgage'].iloc[1]"
   ]
  },
  {
   "cell_type": "code",
   "execution_count": null,
   "metadata": {},
   "outputs": [],
   "source": []
  },
  {
   "cell_type": "code",
   "execution_count": null,
   "metadata": {},
   "outputs": [],
   "source": []
  },
  {
   "cell_type": "code",
   "execution_count": 16,
   "metadata": {},
   "outputs": [
    {
     "data": {
      "text/plain": [
       "Credit reporting                              2002093\n",
       "Checking account                               196807\n",
       "General-purpose credit card or charge card     150615\n",
       "I do not know                                  109608\n",
       "Other debt                                      96782\n",
       "Conventional home mortgage                      93288\n",
       "Other mortgage                                  86633\n",
       "Credit card debt                                81474\n",
       "Conventional fixed mortgage                     70607\n",
       "Medical debt                                    52893\n",
       "FHA mortgage                                    48065\n",
       "Other (i.e. phone, health club, etc.)           44524\n",
       "Federal student loan servicing                  38717\n",
       "Loan                                            38118\n",
       "Credit card                                     28692\n",
       "Store credit card                               27067\n",
       "Conventional adjustable mortgage (ARM)          25380\n",
       "Non-federal student loan                        25162\n",
       "Installment loan                                21569\n",
       "Medical                                         21184\n",
       "Mobile or digital wallet                        20451\n",
       "Other banking product or service                18608\n",
       "Savings account                                 18045\n",
       "Other bank product/service                      17825\n",
       "Vehicle loan                                    17779\n",
       "Domestic (US) money transfer                    17760\n",
       "Other type of mortgage                          15453\n",
       "Other personal consumer report                  15433\n",
       "VA mortgage                                     15149\n",
       "Payday loan                                     14298\n",
       "Private student loan                            14130\n",
       "Auto debt                                       13983\n",
       "Home equity loan or line of credit              11623\n",
       "International money transfer                    10015\n",
       "Payday loan debt                                 9158\n",
       "Home equity loan or line of credit (HELOC)       8907\n",
       "Personal line of credit                          8890\n",
       "Government benefit card                          8818\n",
       "Virtual currency                                 8712\n",
       "General-purpose prepaid card                     8175\n",
       "Lease                                            7083\n",
       "Mortgage debt                                    6278\n",
       "Mortgage                                         4809\n",
       "Credit repair services                           4690\n",
       "Reverse mortgage                                 4372\n",
       "Private student loan debt                        3801\n",
       "CD (Certificate of Deposit)                      3793\n",
       "Federal student loan debt                        3777\n",
       "Auto                                             3754\n",
       "(CD) Certificate of deposit                      3417\n",
       "Title loan                                       3243\n",
       "Vehicle lease                                    2655\n",
       "Federal student loan                             2474\n",
       "General purpose card                             1752\n",
       "Payroll card                                     1282\n",
       "Debt settlement                                  1237\n",
       "Gift card                                         950\n",
       "Traveler's check or cashier's check               939\n",
       "Check cashing service                             906\n",
       "Money order                                       893\n",
       "Refund anticipation check                         667\n",
       "Second mortgage                                   662\n",
       "Foreign currency exchange                         640\n",
       "Cashing a check without an account                625\n",
       "Mobile wallet                                     418\n",
       "Gift or merchant card                             402\n",
       "Government benefit payment card                   389\n",
       "Check cashing                                     266\n",
       "ID prepaid card                                   207\n",
       "Other special purpose card                        191\n",
       "Pawn loan                                         159\n",
       "Credit repair                                     102\n",
       "Traveler’s/Cashier’s checks                        88\n",
       "Transit card                                       37\n",
       "Student prepaid card                               31\n",
       "Electronic Benefit Transfer / EBT card             12\n",
       "Name: Sub-product, dtype: int64"
      ]
     },
     "execution_count": 16,
     "metadata": {},
     "output_type": "execute_result"
    }
   ],
   "source": [
    "df['Sub-product'].value_counts()"
   ]
  },
  {
   "cell_type": "code",
   "execution_count": null,
   "metadata": {},
   "outputs": [],
   "source": []
  }
 ],
 "metadata": {
  "kernelspec": {
   "display_name": "Python 3.10.9 64-bit",
   "language": "python",
   "name": "python3"
  },
  "language_info": {
   "codemirror_mode": {
    "name": "ipython",
    "version": 3
   },
   "file_extension": ".py",
   "mimetype": "text/x-python",
   "name": "python",
   "nbconvert_exporter": "python",
   "pygments_lexer": "ipython3",
   "version": "3.10.9"
  },
  "orig_nbformat": 4,
  "vscode": {
   "interpreter": {
    "hash": "b0fa6594d8f4cbf19f97940f81e996739fb7646882a419484c72d19e05852a7e"
   }
  }
 },
 "nbformat": 4,
 "nbformat_minor": 2
}
